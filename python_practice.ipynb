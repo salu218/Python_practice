{
  "cells": [
    {
      "cell_type": "markdown",
      "metadata": {
        "id": "view-in-github",
        "colab_type": "text"
      },
      "source": [
        "<a href=\"https://colab.research.google.com/github/salu218/Python_practice/blob/main/python_practice.ipynb\" target=\"_parent\"><img src=\"https://colab.research.google.com/assets/colab-badge.svg\" alt=\"Open In Colab\"/></a>"
      ]
    },
    {
      "cell_type": "code",
      "source": [
        "import matplotlib.pyplot as plt"
      ],
      "metadata": {
        "id": "nAZIGR6UEg2i"
      },
      "execution_count": null,
      "outputs": []
    },
    {
      "cell_type": "code",
      "source": [
        "mylist = ['singh','order','korean', 22, 54, 22]"
      ],
      "metadata": {
        "id": "b3uqm_l5TIrW"
      },
      "execution_count": null,
      "outputs": []
    },
    {
      "cell_type": "code",
      "source": [
        "mylist.append(78)\n",
        "print(mylist)"
      ],
      "metadata": {
        "id": "EzIDuaJrT-Vv",
        "outputId": "6bfaad7f-4d73-42c8-fde6-8f7effdcaa43",
        "colab": {
          "base_uri": "https://localhost:8080/"
        }
      },
      "execution_count": null,
      "outputs": [
        {
          "output_type": "stream",
          "name": "stdout",
          "text": [
            "['singh', 'order', 'korean', 22, 54, 22, 78]\n"
          ]
        }
      ]
    },
    {
      "cell_type": "code",
      "source": [
        "list2 = mylist.copy()\n",
        "print(list2)"
      ],
      "metadata": {
        "id": "EJby3KtLT-Yd",
        "outputId": "9bab88b4-6513-446b-a211-fda5d89cda7f",
        "colab": {
          "base_uri": "https://localhost:8080/"
        }
      },
      "execution_count": null,
      "outputs": [
        {
          "output_type": "stream",
          "name": "stdout",
          "text": [
            "['singh', 'order', 'korean', 22, 54, 22, 78]\n"
          ]
        }
      ]
    },
    {
      "cell_type": "code",
      "source": [
        "list2.count(22)"
      ],
      "metadata": {
        "id": "bEdo9oFGT-be",
        "outputId": "cba9688b-bfcb-467d-86e3-5c32203c3138",
        "colab": {
          "base_uri": "https://localhost:8080/"
        }
      },
      "execution_count": null,
      "outputs": [
        {
          "output_type": "execute_result",
          "data": {
            "text/plain": [
              "2"
            ]
          },
          "metadata": {},
          "execution_count": 4
        }
      ]
    },
    {
      "cell_type": "code",
      "source": [
        "list2.index(22,2,4)"
      ],
      "metadata": {
        "id": "ycVQUvllT-dz",
        "outputId": "6d41cddc-0f45-41a3-91f8-85789af25094",
        "colab": {
          "base_uri": "https://localhost:8080/"
        }
      },
      "execution_count": null,
      "outputs": [
        {
          "output_type": "execute_result",
          "data": {
            "text/plain": [
              "3"
            ]
          },
          "metadata": {},
          "execution_count": 5
        }
      ]
    },
    {
      "cell_type": "code",
      "source": [
        "list2.insert(1, \"Singh\")"
      ],
      "metadata": {
        "id": "Rj_oAn_jT-gA"
      },
      "execution_count": null,
      "outputs": []
    },
    {
      "cell_type": "code",
      "source": [
        "list2.pop()\n",
        "list2"
      ],
      "metadata": {
        "id": "G5CFz7PIT-i0",
        "outputId": "fcebd538-48e9-40aa-9d99-0923482ecad9",
        "colab": {
          "base_uri": "https://localhost:8080/"
        }
      },
      "execution_count": null,
      "outputs": [
        {
          "output_type": "execute_result",
          "data": {
            "text/plain": [
              "['singh', 'Singh', 'order', 'korean', 22, 54, 22]"
            ]
          },
          "metadata": {},
          "execution_count": 7
        }
      ]
    },
    {
      "cell_type": "code",
      "source": [
        "list2.pop()\n",
        "list2"
      ],
      "metadata": {
        "id": "dMu9D59rT-ld",
        "outputId": "431a15b8-e5af-4047-c4fe-b8b0dd83fa67",
        "colab": {
          "base_uri": "https://localhost:8080/"
        }
      },
      "execution_count": null,
      "outputs": [
        {
          "output_type": "execute_result",
          "data": {
            "text/plain": [
              "['singh', 'Singh', 'order', 'korean', 22, 54]"
            ]
          },
          "metadata": {},
          "execution_count": 8
        }
      ]
    },
    {
      "cell_type": "code",
      "source": [
        "print(type(list2))"
      ],
      "metadata": {
        "id": "wSQiZ6XDT-nm",
        "outputId": "d94dfe2f-0fc1-4990-9842-f193c8bf4c7c",
        "colab": {
          "base_uri": "https://localhost:8080/"
        }
      },
      "execution_count": null,
      "outputs": [
        {
          "output_type": "stream",
          "name": "stdout",
          "text": [
            "<class 'list'>\n"
          ]
        }
      ]
    },
    {
      "cell_type": "code",
      "execution_count": null,
      "metadata": {
        "id": "zwFnJsE6vjf8"
      },
      "outputs": [],
      "source": [
        "list2.extend([78,62,'add','sub'])"
      ]
    },
    {
      "cell_type": "code",
      "source": [
        "list2"
      ],
      "metadata": {
        "id": "sg8v7KqMbMm9",
        "outputId": "b19a789e-816d-4ac0-c3a4-0c0076245c14",
        "colab": {
          "base_uri": "https://localhost:8080/"
        }
      },
      "execution_count": null,
      "outputs": [
        {
          "output_type": "execute_result",
          "data": {
            "text/plain": [
              "['singh', 'Singh', 'order', 'korean', 22, 54, 78, 62, 'add', 'sub']"
            ]
          },
          "metadata": {},
          "execution_count": 11
        }
      ]
    },
    {
      "cell_type": "code",
      "source": [
        "list2.reverse()"
      ],
      "metadata": {
        "id": "Jm4el3EibVM-"
      },
      "execution_count": null,
      "outputs": []
    },
    {
      "cell_type": "code",
      "source": [
        "list2"
      ],
      "metadata": {
        "id": "VfG2-vNjbZKp",
        "outputId": "1fe4f479-704b-45cf-d974-d1f08829f1a6",
        "colab": {
          "base_uri": "https://localhost:8080/"
        }
      },
      "execution_count": null,
      "outputs": [
        {
          "output_type": "execute_result",
          "data": {
            "text/plain": [
              "['sub', 'add', 62, 78, 54, 22, 'korean', 'order', 'Singh', 'singh']"
            ]
          },
          "metadata": {},
          "execution_count": 13
        }
      ]
    },
    {
      "cell_type": "code",
      "source": [
        "list2[6]"
      ],
      "metadata": {
        "id": "KUlt4gm-cD2V",
        "outputId": "ca012332-5d6d-43b7-821e-55623bca2727",
        "colab": {
          "base_uri": "https://localhost:8080/",
          "height": 35
        }
      },
      "execution_count": null,
      "outputs": [
        {
          "output_type": "execute_result",
          "data": {
            "text/plain": [
              "'korean'"
            ],
            "application/vnd.google.colaboratory.intrinsic+json": {
              "type": "string"
            }
          },
          "metadata": {},
          "execution_count": 14
        }
      ]
    },
    {
      "cell_type": "code",
      "source": [
        "list3 = [22,67,89,22,24,85]\n",
        "list3.sort()"
      ],
      "metadata": {
        "id": "REZAhf0Nbap3"
      },
      "execution_count": null,
      "outputs": []
    },
    {
      "cell_type": "code",
      "source": [
        "list3"
      ],
      "metadata": {
        "id": "HT0AAYUdbasd",
        "outputId": "9df4f067-b200-4128-e509-734c837e8bed",
        "colab": {
          "base_uri": "https://localhost:8080/"
        }
      },
      "execution_count": null,
      "outputs": [
        {
          "output_type": "execute_result",
          "data": {
            "text/plain": [
              "[22, 22, 24, 67, 85, 89]"
            ]
          },
          "metadata": {},
          "execution_count": 16
        }
      ]
    },
    {
      "cell_type": "code",
      "source": [
        "list3.remove(22)\n",
        "list3"
      ],
      "metadata": {
        "id": "QlQUHBAxcD4m",
        "outputId": "d14bc3c5-39ec-4265-a862-3b9488608654",
        "colab": {
          "base_uri": "https://localhost:8080/"
        }
      },
      "execution_count": null,
      "outputs": [
        {
          "output_type": "execute_result",
          "data": {
            "text/plain": [
              "[22, 24, 67, 85, 89]"
            ]
          },
          "metadata": {},
          "execution_count": 17
        }
      ]
    },
    {
      "cell_type": "code",
      "source": [
        "list3.clear()\n",
        "list3"
      ],
      "metadata": {
        "id": "GOmyH12Xcz9t",
        "outputId": "90fed700-f622-4d9f-f715-67fdf696db6e",
        "colab": {
          "base_uri": "https://localhost:8080/"
        }
      },
      "execution_count": null,
      "outputs": [
        {
          "output_type": "execute_result",
          "data": {
            "text/plain": [
              "[]"
            ]
          },
          "metadata": {},
          "execution_count": 18
        }
      ]
    },
    {
      "cell_type": "code",
      "source": [
        "text = 'Python'\n",
        "\n",
        "# convert string to list\n",
        "text_list = list(text)\n",
        "print(text_list)\n",
        "\n",
        "\n",
        "\n",
        "string1 = 'AdityaSingh'\n",
        "string2 = list(string1)\n",
        "print(string2)"
      ],
      "metadata": {
        "id": "5W8N3yMrc0Ab",
        "outputId": "95dad094-3529-478e-b100-380ed78548cf",
        "colab": {
          "base_uri": "https://localhost:8080/"
        }
      },
      "execution_count": null,
      "outputs": [
        {
          "output_type": "stream",
          "name": "stdout",
          "text": [
            "['P', 'y', 't', 'h', 'o', 'n']\n",
            "['A', 'd', 'i', 't', 'y', 'a', 'S', 'i', 'n', 'g', 'h']\n"
          ]
        }
      ]
    },
    {
      "cell_type": "code",
      "source": [
        "list1 = list(('HAPPY','54','false','sad','cry'))\n",
        "print(type(list1))\n",
        "print(list1)\n"
      ],
      "metadata": {
        "id": "x3E0109Oc0DI",
        "outputId": "65003558-28c3-4827-9df7-5d80161c8de0",
        "colab": {
          "base_uri": "https://localhost:8080/"
        }
      },
      "execution_count": null,
      "outputs": [
        {
          "output_type": "stream",
          "name": "stdout",
          "text": [
            "<class 'list'>\n",
            "['HAPPY', '54', 'false', 'sad', 'cry']\n"
          ]
        }
      ]
    },
    {
      "cell_type": "code",
      "source": [
        "list1."
      ],
      "metadata": {
        "id": "bkc8P5_sc0F0"
      },
      "execution_count": null,
      "outputs": []
    },
    {
      "cell_type": "code",
      "source": [
        "# Range example\n",
        "lis=['aj','asd','fd','dgs','sdf','ye','uio','qwe']\n",
        "\n",
        "#for neha in range(2, 5):\n",
        "#  print(lis)\n",
        "\n",
        "for y in lis:\n",
        "  print(y)"
      ],
      "metadata": {
        "id": "o0_rYsBDc0Ib",
        "colab": {
          "base_uri": "https://localhost:8080/"
        },
        "outputId": "dfff21a5-6786-4080-afab-df58ab360c29"
      },
      "execution_count": null,
      "outputs": [
        {
          "output_type": "stream",
          "name": "stdout",
          "text": [
            "aj\n",
            "asd\n",
            "fd\n",
            "dgs\n",
            "sdf\n",
            "ye\n",
            "uio\n",
            "qwe\n"
          ]
        }
      ]
    },
    {
      "cell_type": "code",
      "source": [
        "i = 1\n",
        "num_list = [3,4,5,4,7]\n",
        "\n",
        "if len(num_list) != 0:\n",
        "  for j in num_list:\n",
        "    i = i * j\n",
        "  print(i)\n",
        "else:\n",
        "  print('pass')"
      ],
      "metadata": {
        "colab": {
          "base_uri": "https://localhost:8080/"
        },
        "id": "Vd6JA10EPjK-",
        "outputId": "0b172cfb-d40d-47bb-8121-1295afef8cd7"
      },
      "execution_count": null,
      "outputs": [
        {
          "output_type": "stream",
          "name": "stdout",
          "text": [
            "1680\n"
          ]
        }
      ]
    },
    {
      "cell_type": "code",
      "source": [
        "r = {22: 'fdf',76:'fs'}\n",
        "print(type(r))"
      ],
      "metadata": {
        "colab": {
          "base_uri": "https://localhost:8080/"
        },
        "id": "kJcMG3GPNVfr",
        "outputId": "0de6f68e-03a2-4a61-fb8b-31ad5ebe35bf"
      },
      "execution_count": null,
      "outputs": [
        {
          "output_type": "stream",
          "name": "stdout",
          "text": [
            "<class 'dict'>\n"
          ]
        }
      ]
    },
    {
      "cell_type": "code",
      "source": [
        "u = 0\n",
        "num_list_2 = [2,5,8,4,7]\n",
        "if len(num_list_2) != 0:\n",
        "  for k in num_list_2:\n",
        "    u += k\n",
        "  print(u)\n",
        "else:\n",
        "    print('good')"
      ],
      "metadata": {
        "colab": {
          "base_uri": "https://localhost:8080/"
        },
        "id": "vt1jjh0OPxnW",
        "outputId": "0923eacc-2134-40c2-973a-7d7b9b67def5"
      },
      "execution_count": null,
      "outputs": [
        {
          "output_type": "stream",
          "name": "stdout",
          "text": [
            "26\n"
          ]
        }
      ]
    },
    {
      "cell_type": "code",
      "source": [
        "o = 0\n",
        "neu = [22,45,12]\n",
        "\n",
        "#add\n",
        "if len(neu) != 0:\n",
        "  for m in neu:\n",
        "    o += m\n",
        "  print(o)\n",
        "else:\n",
        "    print('nothing')\n",
        "\n",
        "\n",
        "#multiply\n",
        "if len(neu) != 0:\n",
        "  for d in neu:\n",
        "    o += d\n",
        "  print(o)\n",
        "else:\n",
        "  print('something')\n"
      ],
      "metadata": {
        "colab": {
          "base_uri": "https://localhost:8080/"
        },
        "id": "gFw-sUkpS5-m",
        "outputId": "e4f27c41-3ca5-4a31-e824-2c76ef795465"
      },
      "execution_count": null,
      "outputs": [
        {
          "output_type": "stream",
          "name": "stdout",
          "text": [
            "79\n",
            "158\n"
          ]
        }
      ]
    },
    {
      "cell_type": "code",
      "source": [
        "list_h = ['tea', 'oolong', 89, 'co']\n",
        "for k in list_h[0:3:1]:\n",
        "  print(k)"
      ],
      "metadata": {
        "colab": {
          "base_uri": "https://localhost:8080/"
        },
        "id": "nkm86D3yWyKJ",
        "outputId": "40ce09c2-11a9-4239-e6db-9a83963de368"
      },
      "execution_count": null,
      "outputs": [
        {
          "output_type": "stream",
          "name": "stdout",
          "text": [
            "tea\n",
            "oolong\n",
            "89\n"
          ]
        }
      ]
    },
    {
      "cell_type": "code",
      "source": [
        "thislist = ['jk', 'hj', 89, 'io', 'kiwi', 'orange', 'apple', 'banana']\n",
        "print(thislist[1])\n",
        "print(thislist[0:3])\n",
        "print(thislist[1:])\n",
        "print(thislist[-4:3])\n",
        "thislist[1:5]= ['ky','lo','pe']\n",
        "print(thislist)"
      ],
      "metadata": {
        "colab": {
          "base_uri": "https://localhost:8080/"
        },
        "id": "4XAJbnoZYru0",
        "outputId": "72e735bc-8749-4142-9f9d-23da4ef677e8"
      },
      "execution_count": null,
      "outputs": [
        {
          "output_type": "stream",
          "name": "stdout",
          "text": [
            "hj\n",
            "['jk', 'hj', 89]\n",
            "['hj', 89, 'io', 'kiwi', 'orange', 'apple', 'banana']\n",
            "[]\n",
            "['jk', 'ky', 'lo', 'pe', 'orange', 'apple', 'banana']\n"
          ]
        }
      ]
    },
    {
      "cell_type": "code",
      "source": [
        "thislist=['balcuet','balkati','balaka','heybalaka','balakou','balakah']\n",
        "thislist[2:3] = ['mana','tana']\n",
        "print (thislist)\n",
        "print(len(thislist))"
      ],
      "metadata": {
        "colab": {
          "base_uri": "https://localhost:8080/"
        },
        "id": "jgRsiE45Y63O",
        "outputId": "37505ae0-d455-4d0d-8699-bfffc7b6f66f"
      },
      "execution_count": null,
      "outputs": [
        {
          "output_type": "stream",
          "name": "stdout",
          "text": [
            "['balcuet', 'balkati', 'mana', 'tana', 'heybalaka', 'balakou', 'balakah']\n",
            "7\n"
          ]
        }
      ]
    },
    {
      "cell_type": "code",
      "source": [
        "#float(2):2.0\n",
        "print(int(3.1))\n",
        "print(float(45))"
      ],
      "metadata": {
        "colab": {
          "base_uri": "https://localhost:8080/"
        },
        "id": "2hnWU5xZkNTC",
        "outputId": "06e3014c-9140-4de8-ff0b-39e36703df8f"
      },
      "execution_count": null,
      "outputs": [
        {
          "output_type": "stream",
          "name": "stdout",
          "text": [
            "3\n",
            "45.0\n"
          ]
        }
      ]
    },
    {
      "cell_type": "code",
      "source": [
        "x = '28.786'\n",
        "print(int(x))"
      ],
      "metadata": {
        "colab": {
          "base_uri": "https://localhost:8080/",
          "height": 194
        },
        "id": "tfTvbzxoX4Cx",
        "outputId": "d41dac75-cc49-4c11-f85d-76d7d23e5c2d"
      },
      "execution_count": null,
      "outputs": [
        {
          "output_type": "error",
          "ename": "ValueError",
          "evalue": "invalid literal for int() with base 10: '28.786'",
          "traceback": [
            "\u001b[0;31m---------------------------------------------------------------------------\u001b[0m",
            "\u001b[0;31mValueError\u001b[0m                                Traceback (most recent call last)",
            "\u001b[0;32m<ipython-input-8-ee99181cd788>\u001b[0m in \u001b[0;36m<cell line: 2>\u001b[0;34m()\u001b[0m\n\u001b[1;32m      1\u001b[0m \u001b[0mx\u001b[0m \u001b[0;34m=\u001b[0m \u001b[0;34m'28.786'\u001b[0m\u001b[0;34m\u001b[0m\u001b[0;34m\u001b[0m\u001b[0m\n\u001b[0;32m----> 2\u001b[0;31m \u001b[0mprint\u001b[0m\u001b[0;34m(\u001b[0m\u001b[0mint\u001b[0m\u001b[0;34m(\u001b[0m\u001b[0mx\u001b[0m\u001b[0;34m)\u001b[0m\u001b[0;34m)\u001b[0m\u001b[0;34m\u001b[0m\u001b[0;34m\u001b[0m\u001b[0m\n\u001b[0m",
            "\u001b[0;31mValueError\u001b[0m: invalid literal for int() with base 10: '28.786'"
          ]
        }
      ]
    },
    {
      "cell_type": "code",
      "source": [
        "x = '56'\n",
        "\n",
        "# print the value as string\n",
        "print(str(x))"
      ],
      "metadata": {
        "colab": {
          "base_uri": "https://localhost:8080/"
        },
        "id": "T7IJDUiMcfTE",
        "outputId": "ea5d1e9c-5621-4bee-a8e0-a66a0321aae5"
      },
      "execution_count": null,
      "outputs": [
        {
          "output_type": "stream",
          "name": "stdout",
          "text": [
            "56\n"
          ]
        }
      ]
    },
    {
      "cell_type": "code",
      "source": [
        "y = '78.24'\n",
        "\n",
        "#print the value as int\n",
        "print(int(y))\n",
        "\n",
        "#print the value as float\n",
        "#print(int(y))"
      ],
      "metadata": {
        "colab": {
          "base_uri": "https://localhost:8080/",
          "height": 246
        },
        "id": "XsRxo1-URndH",
        "outputId": "ba7c971f-fe40-4675-8c5a-ca857e07c1c0"
      },
      "execution_count": null,
      "outputs": [
        {
          "output_type": "error",
          "ename": "ValueError",
          "evalue": "invalid literal for int() with base 10: '78.24'",
          "traceback": [
            "\u001b[0;31m---------------------------------------------------------------------------\u001b[0m",
            "\u001b[0;31mValueError\u001b[0m                                Traceback (most recent call last)",
            "\u001b[0;32m<ipython-input-15-727329bce5b7>\u001b[0m in \u001b[0;36m<cell line: 4>\u001b[0;34m()\u001b[0m\n\u001b[1;32m      2\u001b[0m \u001b[0;34m\u001b[0m\u001b[0m\n\u001b[1;32m      3\u001b[0m \u001b[0;31m#print the value as int\u001b[0m\u001b[0;34m\u001b[0m\u001b[0;34m\u001b[0m\u001b[0m\n\u001b[0;32m----> 4\u001b[0;31m \u001b[0mprint\u001b[0m\u001b[0;34m(\u001b[0m\u001b[0mint\u001b[0m\u001b[0;34m(\u001b[0m\u001b[0my\u001b[0m\u001b[0;34m)\u001b[0m\u001b[0;34m)\u001b[0m\u001b[0;34m\u001b[0m\u001b[0;34m\u001b[0m\u001b[0m\n\u001b[0m\u001b[1;32m      5\u001b[0m \u001b[0;34m\u001b[0m\u001b[0m\n\u001b[1;32m      6\u001b[0m \u001b[0;31m#print the value as float\u001b[0m\u001b[0;34m\u001b[0m\u001b[0;34m\u001b[0m\u001b[0m\n",
            "\u001b[0;31mValueError\u001b[0m: invalid literal for int() with base 10: '78.24'"
          ]
        }
      ]
    },
    {
      "cell_type": "markdown",
      "source": [
        "Describe the result in own words"
      ],
      "metadata": {
        "id": "TyomOFMwR4Nm"
      }
    },
    {
      "cell_type": "markdown",
      "source": [],
      "metadata": {
        "id": "NgapD5QER79k"
      }
    },
    {
      "cell_type": "code",
      "source": [
        "z = 98.89\n",
        "\n",
        "#print the value as string\n",
        "print(str(z))\n",
        "print(type(z))\n",
        "print('kumbaya')\n",
        "\n"
      ],
      "metadata": {
        "colab": {
          "base_uri": "https://localhost:8080/"
        },
        "id": "jPrOdY4aRngg",
        "outputId": "57989144-a5ce-46c9-a485-e88045ee807b"
      },
      "execution_count": null,
      "outputs": [
        {
          "output_type": "stream",
          "name": "stdout",
          "text": [
            "98.89\n",
            "<class 'float'>\n",
            "kumbaya\n"
          ]
        }
      ]
    },
    {
      "cell_type": "code",
      "source": [
        "print(25//6)"
      ],
      "metadata": {
        "colab": {
          "base_uri": "https://localhost:8080/"
        },
        "id": "ZN1NhvqKRnjC",
        "outputId": "3ad7dd46-2ff9-4947-f8d6-d3519ef89d3d"
      },
      "execution_count": null,
      "outputs": [
        {
          "output_type": "stream",
          "name": "stdout",
          "text": [
            "4\n"
          ]
        }
      ]
    },
    {
      "cell_type": "code",
      "source": [
        "my_variable = 1.0000001\n",
        "my_variable2 = 2\n",
        "my_variable = 10\n",
        "\n",
        "#print(type(my_variable == my_variable2))\n",
        "print(my_variable)"
      ],
      "metadata": {
        "colab": {
          "base_uri": "https://localhost:8080/"
        },
        "id": "vzlIkrjcRnqH",
        "outputId": "cb02b086-4a48-4236-a543-44f1ba13c6f3"
      },
      "execution_count": null,
      "outputs": [
        {
          "output_type": "stream",
          "name": "stdout",
          "text": [
            "10\n"
          ]
        }
      ]
    },
    {
      "cell_type": "code",
      "source": [
        "x = (45+67+78+90)\n",
        "print(x)"
      ],
      "metadata": {
        "colab": {
          "base_uri": "https://localhost:8080/"
        },
        "id": "VeFdLGU6kKIX",
        "outputId": "a5e5e384-99c4-4c6a-8860-d62051cdfd32"
      },
      "execution_count": null,
      "outputs": [
        {
          "output_type": "stream",
          "name": "stdout",
          "text": [
            "280\n"
          ]
        }
      ]
    },
    {
      "cell_type": "code",
      "source": [
        "(type(float(5)))\n"
      ],
      "metadata": {
        "colab": {
          "base_uri": "https://localhost:8080/"
        },
        "id": "jTKr0DjmpSZi",
        "outputId": "08f46368-1024-44e6-982d-99b35fb26452"
      },
      "execution_count": null,
      "outputs": [
        {
          "output_type": "execute_result",
          "data": {
            "text/plain": [
              "float"
            ]
          },
          "metadata": {},
          "execution_count": 7
        }
      ]
    },
    {
      "cell_type": "code",
      "source": [
        "x =3 + 2 * 2\n",
        "x"
      ],
      "metadata": {
        "colab": {
          "base_uri": "https://localhost:8080/"
        },
        "id": "V6G8iWnviFug",
        "outputId": "af07eec5-ecf8-4836-ecee-2296fc86bac4"
      },
      "execution_count": null,
      "outputs": [
        {
          "output_type": "execute_result",
          "data": {
            "text/plain": [
              "7"
            ]
          },
          "metadata": {},
          "execution_count": 9
        }
      ]
    },
    {
      "cell_type": "code",
      "source": [
        "name = 'Michael jackson'\n",
        "statement = name + ' is the best'\n",
        "statement"
      ],
      "metadata": {
        "colab": {
          "base_uri": "https://localhost:8080/",
          "height": 35
        },
        "id": "2vBkEux0o5t2",
        "outputId": "6978b8a8-d368-4095-80f9-dac10c8dd020"
      },
      "execution_count": null,
      "outputs": [
        {
          "output_type": "execute_result",
          "data": {
            "text/plain": [
              "'Michael jackson is the best'"
            ],
            "application/vnd.google.colaboratory.intrinsic+json": {
              "type": "string"
            }
          },
          "metadata": {},
          "execution_count": 10
        }
      ]
    },
    {
      "cell_type": "code",
      "source": [
        "import re"
      ],
      "metadata": {
        "id": "1c92uJbA0VuM"
      },
      "execution_count": null,
      "outputs": []
    },
    {
      "cell_type": "code",
      "source": [
        "s1 = \"Michael Jackson is the best\"\n",
        "\n",
        "# Define the pattern to search for\n",
        "pattern = r\"Jackson\"\n",
        "\n",
        "# Use the search() function to search for the pattern in the string\n",
        "result = re.search(pattern, s1)\n",
        "\n",
        "# Check if a match was found\n",
        "if result:\n",
        "    print(\"Match found!\")\n",
        "else:\n",
        "    print(\"Match not found.\")\n"
      ],
      "metadata": {
        "colab": {
          "base_uri": "https://localhost:8080/"
        },
        "id": "olPxp256KETD",
        "outputId": "10dbd157-9fc4-47b0-d806-df729af11a84"
      },
      "execution_count": null,
      "outputs": [
        {
          "output_type": "stream",
          "name": "stdout",
          "text": [
            "Match found!\n"
          ]
        }
      ]
    },
    {
      "cell_type": "code",
      "source": [
        "s2 = \"My name is aditya singh. I am from cuttack. I am 26 yrs old\"\n",
        "\n",
        "#pattern = r\"am\"\n",
        "\n",
        "result = re.findall(\"am\", s2)\n",
        "\n",
        "result2 = re.findall(\"name is\", s2)\n",
        "\n",
        "print(result)\n",
        "print(result2)"
      ],
      "metadata": {
        "colab": {
          "base_uri": "https://localhost:8080/"
        },
        "id": "DOey3b3EKEtY",
        "outputId": "1df38a1c-03ba-4673-bad2-8fd73c512e56"
      },
      "execution_count": null,
      "outputs": [
        {
          "output_type": "stream",
          "name": "stdout",
          "text": [
            "['am', 'am', 'am']\n",
            "['name is']\n"
          ]
        }
      ]
    },
    {
      "cell_type": "code",
      "source": [
        "from posixpath import split\n",
        "split_array = re.split('\\s',s2)\n",
        "print(split_array)"
      ],
      "metadata": {
        "colab": {
          "base_uri": "https://localhost:8080/"
        },
        "id": "D3H-uVXhK6Fr",
        "outputId": "a1025967-1913-4de0-a5d5-fa1b142ba4b1"
      },
      "execution_count": null,
      "outputs": [
        {
          "output_type": "stream",
          "name": "stdout",
          "text": [
            "['My', 'name', 'is', 'aditya', 'singh.', 'I', 'am', 'from', 'cuttack.', 'I', 'am', '26', 'yrs', 'old']\n"
          ]
        }
      ]
    },
    {
      "cell_type": "code",
      "source": [
        "my_string=\"    Hello john\"\n",
        "s_text = (my_string.strip())\n",
        "s_text\n",
        "#my_string"
      ],
      "metadata": {
        "id": "C2h36mHJ1Akk",
        "colab": {
          "base_uri": "https://localhost:8080/",
          "height": 35
        },
        "outputId": "20435d3e-6d5b-473c-995b-56b697844f02"
      },
      "execution_count": null,
      "outputs": [
        {
          "output_type": "execute_result",
          "data": {
            "text/plain": [
              "'Hello john'"
            ],
            "application/vnd.google.colaboratory.intrinsic+json": {
              "type": "string"
            }
          },
          "metadata": {},
          "execution_count": 8
        }
      ]
    },
    {
      "cell_type": "code",
      "source": [
        "txt = \"banana\"\n",
        "x = txt.upper()\n",
        "\n",
        "print(x)\n"
      ],
      "metadata": {
        "colab": {
          "base_uri": "https://localhost:8080/"
        },
        "id": "ghPg_cGea1GC",
        "outputId": "f287497d-7f26-432b-8561-895d6af0023e"
      },
      "execution_count": null,
      "outputs": [
        {
          "output_type": "stream",
          "name": "stdout",
          "text": [
            "BANANA\n"
          ]
        }
      ]
    },
    {
      "cell_type": "code",
      "source": [
        "tuples1 = (54,89,89,56,77)\n",
        "tuples1 = (87,44,90)\n",
        "tuples1"
      ],
      "metadata": {
        "colab": {
          "base_uri": "https://localhost:8080/"
        },
        "id": "deEUt3kcgDzI",
        "outputId": "b1d4dbc9-52a4-4b44-9dcb-f6fa7a936630"
      },
      "execution_count": null,
      "outputs": [
        {
          "output_type": "execute_result",
          "data": {
            "text/plain": [
              "(87, 44, 90)"
            ]
          },
          "metadata": {},
          "execution_count": 3
        }
      ]
    },
    {
      "cell_type": "code",
      "source": [
        "A = [\"Banana\", \"hard rock\", 67, 1.2]\n",
        "B = A[:]\n",
        "print(A)\n",
        "print(B)"
      ],
      "metadata": {
        "colab": {
          "base_uri": "https://localhost:8080/"
        },
        "id": "VTUnUOh0Lw41",
        "outputId": "3ee6451a-eb8b-4110-ff3a-43172d45dc8e"
      },
      "execution_count": null,
      "outputs": [
        {
          "output_type": "stream",
          "name": "stdout",
          "text": [
            "['Banana', 'hard rock', 67, 1.2]\n",
            "['Banana', 'hard rock', 67, 1.2]\n"
          ]
        }
      ]
    },
    {
      "cell_type": "code",
      "source": [
        "person = { \"name\": \"John\",  \"age\": 30, \"city\": \"New York\"}\n",
        "\n",
        "#person.update({\"Profession\": \"Doctor\"})\n",
        "#person.clear()\n",
        "#if \"name\" in person:\n",
        " #print (\"name exists in dictionary.\")\n",
        "info = list(person.items())\n",
        "info"
      ],
      "metadata": {
        "colab": {
          "base_uri": "https://localhost:8080/"
        },
        "id": "9mu01gIjxOpK",
        "outputId": "a8c78bae-3893-4bb3-a0d6-0a64fb699a1e"
      },
      "execution_count": null,
      "outputs": [
        {
          "output_type": "execute_result",
          "data": {
            "text/plain": [
              "[('name', 'John'), ('age', 30), ('city', 'New York')]"
            ]
          },
          "metadata": {},
          "execution_count": 13
        }
      ]
    },
    {
      "cell_type": "code",
      "source": [
        "s = {22,35,77,1,25,2,44}\n",
        "\n",
        "popped_ele = s.pop()\n",
        "\n",
        "popped_ele"
      ],
      "metadata": {
        "colab": {
          "base_uri": "https://localhost:8080/"
        },
        "id": "6re3slaBT9Go",
        "outputId": "704f835e-03d5-48cb-8fc7-5610fa266924"
      },
      "execution_count": null,
      "outputs": [
        {
          "output_type": "execute_result",
          "data": {
            "text/plain": [
              "1"
            ]
          },
          "metadata": {},
          "execution_count": 6
        }
      ]
    },
    {
      "cell_type": "code",
      "source": [
        "i = 7\n",
        "i > 5\n",
        "\n"
      ],
      "metadata": {
        "colab": {
          "base_uri": "https://localhost:8080/"
        },
        "id": "-Kr1jAe-rYee",
        "outputId": "df42ddf9-809b-4c57-9c54-a454ee52ce5e"
      },
      "execution_count": null,
      "outputs": [
        {
          "output_type": "execute_result",
          "data": {
            "text/plain": [
              "True"
            ]
          },
          "metadata": {},
          "execution_count": 5
        }
      ]
    },
    {
      "cell_type": "code",
      "source": [
        "years=[1111,2990,7862,777,1192,9171]\n",
        "\n",
        "i = 1\n",
        "year = years[i]\n",
        "\n",
        "while year != 9171:\n",
        "  print(year)\n",
        "  i += 1\n",
        "  year = years[i]\n",
        "#for i in years:\n",
        "  print(\"It took\", i ,\"iteration to get out of loop.\")"
      ],
      "metadata": {
        "colab": {
          "base_uri": "https://localhost:8080/"
        },
        "id": "W1_fLfmNc5LL",
        "outputId": "4d776d9f-1340-4273-8e23-75ab3afed8e3"
      },
      "execution_count": null,
      "outputs": [
        {
          "output_type": "stream",
          "name": "stdout",
          "text": [
            "2990\n",
            "It took 2 iteration to get out of loop.\n",
            "7862\n",
            "It took 3 iteration to get out of loop.\n",
            "777\n",
            "It took 4 iteration to get out of loop.\n",
            "1192\n",
            "It took 5 iteration to get out of loop.\n"
          ]
        }
      ]
    },
    {
      "cell_type": "code",
      "source": [
        "def Mult(a,b):\n",
        "  c= a*b\n",
        "  return c\n",
        "\n",
        "\n",
        "Mult(3,3)\n",
        "\n",
        "\n",
        "\n",
        "\n"
      ],
      "metadata": {
        "id": "lvxfl3jk_iSA",
        "colab": {
          "base_uri": "https://localhost:8080/"
        },
        "outputId": "860f5bc1-eb26-45d1-bfe7-50ad98044ffd"
      },
      "execution_count": null,
      "outputs": [
        {
          "output_type": "execute_result",
          "data": {
            "text/plain": [
              "9"
            ]
          },
          "metadata": {},
          "execution_count": 2
        }
      ]
    },
    {
      "cell_type": "code",
      "source": [
        "PlayListRatings = [10, 9.5, 10, 8, 7.5, 5, 10, 10]\n",
        "i=0\n",
        "rating= PlayListRatings[0]\n",
        "while (len(PlayListRatings) > 0 and rating >= 6):\n",
        "  print(rating)\n",
        "  i= i+1\n",
        "  rating = PlayListRatings[i]"
      ],
      "metadata": {
        "colab": {
          "base_uri": "https://localhost:8080/"
        },
        "id": "SpR6VGcdXREH",
        "outputId": "eee8c415-3df9-49c5-e1fe-c4b02ee15b41"
      },
      "execution_count": null,
      "outputs": [
        {
          "output_type": "stream",
          "name": "stdout",
          "text": [
            "10\n",
            "9.5\n",
            "10\n",
            "8\n",
            "7.5\n"
          ]
        }
      ]
    },
    {
      "cell_type": "markdown",
      "source": [
        "# The following is a list of animals in a National Zoo. Animals = [\"lion\", \"giraffe\", \"gorilla\", \"parrots\", \"crocodile\",\"deer\", \"swan\"]\n",
        "\n",
        "# Your brother needs to write an essay on the animals whose names are made of 7 letters. Help him find those animals through a while loop and create a separate list of such animals."
      ],
      "metadata": {
        "id": "nEnTCS0eJmyJ"
      }
    },
    {
      "cell_type": "code",
      "source": [
        "lis = ['sasd','sdaasasd','asdsadas','asd','ccassc']\n",
        "lis2 = []\n",
        "i=0\n",
        "if len(lis[i]) >= 7:\n",
        "  print(lis[i])\n",
        "\n",
        "  #lis2=lis2.append(lis[i])\n",
        "  #i = i+1\n",
        "#print(lis2)\n",
        "\n"
      ],
      "metadata": {
        "id": "0Y3VlT7FEX51"
      },
      "execution_count": null,
      "outputs": []
    },
    {
      "cell_type": "code",
      "source": [
        "Animals = [\"lion\", \"giraffe\", \"gorilla\", \"parrots\", \"crocodile\",\"deer\", \"swan\"]\n",
        "i=0\n",
        "lis2 = []\n",
        "\n",
        "for j in Animals:\n",
        "  if len(j) >= 7:\n",
        "    lis2.append(j)\n",
        "    i = i+1\n",
        "print(lis2)\n",
        "\n",
        "\n",
        "while len(lis) > 0 and len(lis[i])>7:\n",
        "   lis2.append(lis[i])\n",
        "   i = i+1\n",
        "print(lis2)"
      ],
      "metadata": {
        "colab": {
          "base_uri": "https://localhost:8080/"
        },
        "id": "zwMsccUcF4uv",
        "outputId": "f876141c-1149-40c7-b08e-aba9f5a519c7"
      },
      "execution_count": null,
      "outputs": [
        {
          "output_type": "stream",
          "name": "stdout",
          "text": [
            "['giraffe', 'gorilla', 'parrots', 'crocodile']\n",
            "['giraffe', 'gorilla', 'parrots', 'crocodile', 'crocodile']\n"
          ]
        }
      ]
    },
    {
      "cell_type": "code",
      "source": [
        "Animals = [\"giraffe\", \"lion\", \"gorilla\", \"parrots\", \"crocodile\",\"deer\", \"swan\"]\n",
        "i=0\n",
        "lis2 =[]\n",
        "while len(Animals[i]) >= 7:\n",
        "  print(Animals[i])\n",
        "  i = i + 1\n",
        "  #for j in Animals:\n",
        "\n",
        "  #lis2.append(Animals[i])\n",
        "  #i=i+1\n",
        "#print(lis2)\n"
      ],
      "metadata": {
        "colab": {
          "base_uri": "https://localhost:8080/"
        },
        "id": "zwS7Kd7US8Ks",
        "outputId": "3ae6189d-ffae-419d-99ca-91b6bb2c0c12"
      },
      "execution_count": null,
      "outputs": [
        {
          "output_type": "stream",
          "name": "stdout",
          "text": [
            "giraffe\n"
          ]
        }
      ]
    },
    {
      "cell_type": "code",
      "source": [],
      "metadata": {
        "id": "DJHls8rDS51p"
      },
      "execution_count": null,
      "outputs": []
    },
    {
      "cell_type": "code",
      "source": [
        "Animals = [\"lion\", \"giraffe\", \"gorilla\", \"parrots\", \"crocodile\",\"deer\", \"swan\"]\n",
        "i=0\n",
        "lis2=[]\n",
        "while len(Animals[i]) <= 7:\n",
        "  print(Animals[i])\n",
        "  i = i + 1\n",
        "\n",
        "\n",
        "#for j in Animals:\n",
        "#  while len(j)>7:\n",
        "#    lis2.append(j)\n",
        "#  i = i+1\n",
        "#print(lis2)"
      ],
      "metadata": {
        "id": "s8hoJQdxLKdB",
        "colab": {
          "base_uri": "https://localhost:8080/"
        },
        "outputId": "2902f5ba-0a39-44f9-d634-a4a49df48224"
      },
      "execution_count": null,
      "outputs": [
        {
          "output_type": "stream",
          "name": "stdout",
          "text": [
            "lion\n",
            "giraffe\n",
            "gorilla\n",
            "parrots\n"
          ]
        }
      ]
    },
    {
      "cell_type": "code",
      "source": [
        "while len(Animals) > 0 and len(Animals[i])>7:\n",
        "   lis2.append(lis[i])\n",
        "   i = i+1\n",
        "print(lis2)"
      ],
      "metadata": {
        "id": "BeyJUPp2XeUl"
      },
      "execution_count": null,
      "outputs": []
    },
    {
      "cell_type": "code",
      "source": [
        "#def add1(a):\n",
        "  #b = a+1\n",
        "  #return b\n",
        "\n",
        "#add1(8)\n",
        "#add1(10)\n",
        "#help(add1)\n",
        "\n",
        "#def Mult(a,b):\n",
        " # c=a*b\n",
        " # return c\n",
        "\n",
        "#Mult (2,3)\n",
        "\n",
        "def MJ():\n",
        "  print(\"Michael Jackson\")\n",
        "\n",
        "MJ()"
      ],
      "metadata": {
        "colab": {
          "base_uri": "https://localhost:8080/"
        },
        "id": "uA_wwXv8ETRi",
        "outputId": "9b6a13aa-2711-48b7-982f-49ceb928018d"
      },
      "execution_count": null,
      "outputs": [
        {
          "output_type": "stream",
          "name": "stdout",
          "text": [
            "Michael Jackson\n"
          ]
        }
      ]
    },
    {
      "cell_type": "code",
      "source": [
        "def NoWork():\n",
        "  pass\n",
        "print(NoWork())"
      ],
      "metadata": {
        "colab": {
          "base_uri": "https://localhost:8080/"
        },
        "id": "tT-s3kgFEUFU",
        "outputId": "6953e4fa-fb7d-4a3f-fb5b-51a039ec4d21"
      },
      "execution_count": null,
      "outputs": [
        {
          "output_type": "stream",
          "name": "stdout",
          "text": [
            "None\n"
          ]
        }
      ]
    },
    {
      "cell_type": "code",
      "source": [
        "def add1(a):\n",
        "  b = a+1;\n",
        "  print(a, \"Plus 1 equals\", b)\n",
        "\n",
        "  return b\n",
        "\n",
        "add1(2)\n"
      ],
      "metadata": {
        "colab": {
          "base_uri": "https://localhost:8080/"
        },
        "id": "gqd53m9DHWWB",
        "outputId": "0e6821fb-81f1-4d6b-fd31-4f0b828cf78f"
      },
      "execution_count": null,
      "outputs": [
        {
          "output_type": "stream",
          "name": "stdout",
          "text": [
            "2 Plus 1 equals 3\n"
          ]
        },
        {
          "output_type": "execute_result",
          "data": {
            "text/plain": [
              "3"
            ]
          },
          "metadata": {},
          "execution_count": 6
        }
      ]
    },
    {
      "cell_type": "code",
      "source": [
        "def printstuff(Stuff):\n",
        "  for i,s in enumerate(Stuff):\n",
        "   print(f\"Album, {i} ,Rating is , {s}\")\n",
        "\n",
        "album_ratings = [10.0, 8.5, 3.7]"
      ],
      "metadata": {
        "id": "zJ-yPw3rK-7X"
      },
      "execution_count": null,
      "outputs": []
    },
    {
      "cell_type": "code",
      "source": [
        "print(album_ratings)"
      ],
      "metadata": {
        "colab": {
          "base_uri": "https://localhost:8080/"
        },
        "id": "i4163VN_VrWy",
        "outputId": "1704a41d-e7d5-4b65-ee0f-9247b907ba2b"
      },
      "execution_count": null,
      "outputs": [
        {
          "output_type": "stream",
          "name": "stdout",
          "text": [
            "[10.0, 8.5, 3.7]\n"
          ]
        }
      ]
    },
    {
      "cell_type": "code",
      "source": [
        "def MJ():\n",
        "    print('Michael Jackson')\n",
        "\n",
        "def MJ1():\n",
        "    print('Michael Jackson')\n",
        "    return(None)"
      ],
      "metadata": {
        "id": "9BtKSFciMMLt"
      },
      "execution_count": null,
      "outputs": []
    },
    {
      "cell_type": "code",
      "source": [
        "MJ()"
      ],
      "metadata": {
        "colab": {
          "base_uri": "https://localhost:8080/"
        },
        "id": "JiyZVpIkfx33",
        "outputId": "aa167d34-2767-4685-dc43-3ff6e21d39b9"
      },
      "execution_count": null,
      "outputs": [
        {
          "output_type": "stream",
          "name": "stdout",
          "text": [
            "Michael Jackson\n"
          ]
        }
      ]
    },
    {
      "cell_type": "code",
      "source": [
        "MJ1()"
      ],
      "metadata": {
        "colab": {
          "base_uri": "https://localhost:8080/"
        },
        "id": "wXYSLT9EfyZB",
        "outputId": "e84a35e9-ba1e-469c-9093-f6418c9e4d32"
      },
      "execution_count": null,
      "outputs": [
        {
          "output_type": "stream",
          "name": "stdout",
          "text": [
            "Michael Jackson\n"
          ]
        }
      ]
    },
    {
      "cell_type": "code",
      "source": [
        "print(MJ())"
      ],
      "metadata": {
        "colab": {
          "base_uri": "https://localhost:8080/"
        },
        "id": "6NOU0kCEfycY",
        "outputId": "8d25ae63-a360-4720-e10c-62180568f925"
      },
      "execution_count": null,
      "outputs": [
        {
          "output_type": "stream",
          "name": "stdout",
          "text": [
            "Michael Jackson\n",
            "None\n"
          ]
        }
      ]
    },
    {
      "cell_type": "code",
      "source": [
        "print(MJ1())"
      ],
      "metadata": {
        "colab": {
          "base_uri": "https://localhost:8080/"
        },
        "id": "ZnMIZrxTfyfC",
        "outputId": "aa6a57f8-4daa-4970-fcd7-1c61801b531d"
      },
      "execution_count": null,
      "outputs": [
        {
          "output_type": "stream",
          "name": "stdout",
          "text": [
            "Michael Jackson\n",
            "None\n"
          ]
        }
      ]
    },
    {
      "cell_type": "code",
      "source": [
        "# Python Program to Count words in a String using Dictionary\n",
        "def freq(string):\n",
        "\n",
        "    #step1: A list variable is declared and initialized to an empty list.\n",
        "    words = []\n",
        "\n",
        "    #step2: Break the string into list of words\n",
        "    words = string.split() # or string.lower().split()\n",
        "\n",
        "    #step3: Declare a dictionary\n",
        "    Dict = {}\n",
        "\n",
        "    #step4: Use for loop to iterate words and values to the dictionary\n",
        "    for key in words:\n",
        "        Dict[key] = words.count(key)\n",
        "\n",
        "    #step5: Print the dictionary\n",
        "    print(\"The Frequency of words is:\",Dict)\n",
        "\n",
        "#step6: Call function and pass string in it\n",
        "freq(\"Mary had a little lamb Little lamb, little lamb Mary had a little lamb.Its fleece was white as snow And everywhere that Mary went Mary went, Mary went \\\n",
        "Everywhere that Mary went The lamb was sure to go\")"
      ],
      "metadata": {
        "colab": {
          "base_uri": "https://localhost:8080/"
        },
        "id": "7egrxZsJgHYg",
        "outputId": "15e19d69-2217-45ba-8b19-27592e38cf88"
      },
      "execution_count": null,
      "outputs": [
        {
          "output_type": "stream",
          "name": "stdout",
          "text": [
            "The Frequency of words is: {'Mary': 6, 'had': 2, 'a': 2, 'little': 3, 'lamb': 3, 'Little': 1, 'lamb,': 1, 'lamb.Its': 1, 'fleece': 1, 'was': 2, 'white': 1, 'as': 1, 'snow': 1, 'And': 1, 'everywhere': 1, 'that': 2, 'went': 3, 'went,': 1, 'Everywhere': 1, 'The': 1, 'sure': 1, 'to': 1, 'go': 1}\n"
          ]
        }
      ]
    },
    {
      "cell_type": "code",
      "source": [],
      "metadata": {
        "id": "8kiDeIdvEdrg"
      },
      "execution_count": null,
      "outputs": []
    },
    {
      "cell_type": "code",
      "source": [
        "class Circle(object):\n",
        "\n",
        "    # Constructor\n",
        "    def __init__(self, radius=3, color='blue', edge_color='red'):\n",
        "        self.radius = radius\n",
        "        self.color = color\n",
        "        self.edge_color = edge_color\n",
        "\n",
        "    # Method\n",
        "    def add_radius(self, r):\n",
        "        self.radius = self.radius + r\n",
        "        return(self.radius)\n",
        "\n",
        "    # Method\n",
        "    def drawCircle(self):\n",
        "        plt.gca().add_patch(plt.Circle((0, 0), radius=self.radius, fc=self.color, ec=self.edge_color))\n",
        "        plt.axis('scaled')\n",
        "        plt.show()"
      ],
      "metadata": {
        "id": "xiFg-Y256AHq"
      },
      "execution_count": null,
      "outputs": []
    },
    {
      "cell_type": "code",
      "source": [
        "RedCircle = Circle(radius = 5)\n",
        "RedCircle.drawCircle()\n"
      ],
      "metadata": {
        "colab": {
          "base_uri": "https://localhost:8080/",
          "height": 430
        },
        "id": "G_t19WhCCGlo",
        "outputId": "48493c0d-f40a-4c63-fc9a-ab866b2e0354"
      },
      "execution_count": null,
      "outputs": [
        {
          "output_type": "display_data",
          "data": {
            "text/plain": [
              "<Figure size 640x480 with 1 Axes>"
            ],
            "image/png": "[encoded data removed]"
          },
          "metadata": {}
        }
      ]
    },
    {
      "cell_type": "code",
      "source": [
        "big_circle = Circle().add_radius(r=2)\n",
        "big_circle"
      ],
      "metadata": {
        "colab": {
          "base_uri": "https://localhost:8080/"
        },
        "id": "MdYfBTAiE6s9",
        "outputId": "39c87553-2718-4d28-ea65-836c5e9cae65"
      },
      "execution_count": null,
      "outputs": [
        {
          "output_type": "execute_result",
          "data": {
            "text/plain": [
              "5"
            ]
          },
          "metadata": {},
          "execution_count": 20
        }
      ]
    },
    {
      "cell_type": "code",
      "source": [
        "class Circle(object):\n",
        "\n",
        "    # Constructor\n",
        "    def __init__(self, radius):\n",
        "        self.radius = radius\n",
        "\n",
        "    # Method\n",
        "    def add_radius(self, r):\n",
        "        self.radius = self.radius + r\n",
        "        return(self.radius)\n",
        "\n",
        "    # Method\n",
        "    def drawCircle(self, r, color, edge_color):\n",
        "        plt.gca().add_patch(plt.Circle((0, 0), radius=r, fc=color, ec=edge_color))\n",
        "        plt.axis('scaled')\n",
        "        plt.show()"
      ],
      "metadata": {
        "id": "9BOm9BhYG7je"
      },
      "execution_count": null,
      "outputs": []
    },
    {
      "cell_type": "code",
      "source": [
        "small_circ = Circle(radius=6)\n",
        "small_circ.drawCircle(r=6, color='yellow', edge_color='red')"
      ],
      "metadata": {
        "colab": {
          "base_uri": "https://localhost:8080/",
          "height": 430
        },
        "id": "E3-rvqqaI5-x",
        "outputId": "519c1616-9b03-47ae-a9fa-6c645f170e4e"
      },
      "execution_count": null,
      "outputs": [
        {
          "output_type": "display_data",
          "data": {
            "text/plain": [
              "<Figure size 640x480 with 1 Axes>"
            ],
            "image/png": "[encoded data removed]"
          },
          "metadata": {}
        }
      ]
    },
    {
      "cell_type": "code",
      "source": [
        "givenstring=\"Lorem ipsum dolor! diam amet, consetetur Lorem magna. sed diam nonumy eirmod tempor. diam et labore? et diam magna. et diam amet.\""
      ],
      "metadata": {
        "id": "V6-X4D5oJo9S"
      },
      "execution_count": null,
      "outputs": []
    },
    {
      "cell_type": "code",
      "source": [
        "# Press Shift+Enter to run the code.\n",
        "class TextAnalzer(object):\n",
        "\n",
        "    def __init__ (self, text):\n",
        "        # remove punctuation\n",
        "        formattedText = text.replace('.','').replace('!','').replace('?','').replace(',','')\n",
        "\n",
        "        # make text lowercase\n",
        "        formattedText = formattedText.lower()\n",
        "\n",
        "        self.fmtText = formattedText"
      ],
      "metadata": {
        "id": "buJuWuIRx81B"
      },
      "execution_count": null,
      "outputs": []
    },
    {
      "cell_type": "code",
      "source": [
        "#Press shift+Enter to run the code\n",
        "class TextAnalyzer(object):\n",
        "\n",
        "    def __init__ (self, text):\n",
        "        # remove punctuation\n",
        "        formattedText = text.replace('.','').replace('!','').replace('?','').replace(',','')\n",
        "\n",
        "        # make text lowercase\n",
        "        formattedText = formattedText.lower()\n",
        "\n",
        "        self.fmtText = formattedText\n",
        "\n",
        "    def freqAll(self):\n",
        "        # split text into words\n",
        "        wordList = self.fmtText.split(' ')\n",
        "\n",
        "        # Create dictionary\n",
        "        freqMap = {}\n",
        "        for word in set(wordList): # use set to remove duplicates in list\n",
        "            freqMap[word] = wordList.count(word)\n",
        "\n",
        "        return freqMap"
      ],
      "metadata": {
        "id": "qKQ85NsjyBuo"
      },
      "execution_count": null,
      "outputs": []
    },
    {
      "cell_type": "code",
      "source": [
        "#Press Shift+Enter to run the code\n",
        "class TextAnalyzer(object):\n",
        "\n",
        "    def __init__ (self, text):\n",
        "        # remove punctuation\n",
        "        formattedText = text.replace('.','').replace('!','').replace('?','').replace(',','')\n",
        "\n",
        "        # make text lowercase\n",
        "        formattedText = formattedText.lower()\n",
        "\n",
        "        self.fmtText = formattedText\n",
        "\n",
        "    def freqAll(self):\n",
        "        # split text into words\n",
        "        wordList = self.fmtText.split(' ')\n",
        "\n",
        "        # Create dictionary\n",
        "        freqMap = {}\n",
        "        for word in set(wordList): # use set to remove duplicates in list\n",
        "            freqMap[word] = wordList.count(word)\n",
        "\n",
        "        return freqMap\n",
        "\n",
        "    def freqOf(self,word):\n",
        "        # get frequency map\n",
        "        freqDict = self.freqAll()\n",
        "\n",
        "        if word in freqDict:\n",
        "            return freqDict[word]\n",
        "        else:\n",
        "            return 0"
      ],
      "metadata": {
        "id": "SpiPuISPyF7o"
      },
      "execution_count": null,
      "outputs": []
    },
    {
      "cell_type": "code",
      "source": [
        "exmp2 = 'Example2.txt'\n",
        "with open(exmp2, 'w') as writefile:\n",
        "    writefile.write(\"This is line A\")"
      ],
      "metadata": {
        "id": "M18azI1UyKPT"
      },
      "execution_count": null,
      "outputs": []
    },
    {
      "cell_type": "code",
      "source": [
        "with open(exmp2, 'r') as testwritefile:\n",
        "    print(testwritefile.read())"
      ],
      "metadata": {
        "colab": {
          "base_uri": "https://localhost:8080/"
        },
        "id": "rfYvkPzWaRyh",
        "outputId": "130af160-9a3b-48dc-dbd1-f46abc7a64c3"
      },
      "execution_count": null,
      "outputs": [
        {
          "output_type": "stream",
          "name": "stdout",
          "text": [
            "This is line A\n"
          ]
        }
      ]
    },
    {
      "cell_type": "code",
      "source": [
        "with open('Example2.txt', 'w') as writefile:\n",
        "    writefile.write(\"Overwrite\\n\")\n",
        "with open('Example2.txt', 'r') as testwritefile:\n",
        "    print(testwritefile.read())"
      ],
      "metadata": {
        "colab": {
          "base_uri": "https://localhost:8080/"
        },
        "id": "zqj1QLVeaYyC",
        "outputId": "05f17bc6-3797-47ea-e2b6-1b52304028bf"
      },
      "execution_count": null,
      "outputs": [
        {
          "output_type": "stream",
          "name": "stdout",
          "text": [
            "Overwrite\n",
            "\n"
          ]
        }
      ]
    },
    {
      "cell_type": "code",
      "source": [
        "import numpy as np\n",
        "\n",
        "\n",
        "a = np.array([0,3,8,9,5,7,6,2,1])\n",
        "a"
      ],
      "metadata": {
        "id": "E3QIL9g0cd44",
        "colab": {
          "base_uri": "https://localhost:8080/"
        },
        "outputId": "c0be625a-ebbd-4a16-9bd2-ad58ed6fbe93"
      },
      "execution_count": null,
      "outputs": [
        {
          "output_type": "execute_result",
          "data": {
            "text/plain": [
              "array([0, 3, 8, 9, 5, 7, 6, 2, 1])"
            ]
          },
          "metadata": {},
          "execution_count": 1
        }
      ]
    },
    {
      "cell_type": "code",
      "source": [
        "select = [0,2,3,4]\n",
        "select"
      ],
      "metadata": {
        "colab": {
          "base_uri": "https://localhost:8080/"
        },
        "id": "ZJeloNpDTw-m",
        "outputId": "47d523cb-5313-4ed5-8836-fe8252bf3542"
      },
      "execution_count": null,
      "outputs": [
        {
          "output_type": "execute_result",
          "data": {
            "text/plain": [
              "[0, 2, 3, 4]"
            ]
          },
          "metadata": {},
          "execution_count": 2
        }
      ]
    },
    {
      "cell_type": "code",
      "source": [
        "d = a[select]\n",
        "d"
      ],
      "metadata": {
        "colab": {
          "base_uri": "https://localhost:8080/"
        },
        "id": "xEXLn_BWT75V",
        "outputId": "17488a8f-6dfd-4cd0-ceaa-77d612626c8e"
      },
      "execution_count": null,
      "outputs": [
        {
          "output_type": "execute_result",
          "data": {
            "text/plain": [
              "array([0, 8, 9, 5])"
            ]
          },
          "metadata": {},
          "execution_count": 3
        }
      ]
    },
    {
      "cell_type": "code",
      "source": [
        "a[select]= 10000\n",
        "a"
      ],
      "metadata": {
        "colab": {
          "base_uri": "https://localhost:8080/"
        },
        "id": "fzuyT7MBUDSr",
        "outputId": "a287f66e-7f41-478a-9ccb-e295df548696"
      },
      "execution_count": null,
      "outputs": [
        {
          "output_type": "execute_result",
          "data": {
            "text/plain": [
              "array([10000,     3, 10000, 10000, 10000,     7,     6,     2,     1])"
            ]
          },
          "metadata": {},
          "execution_count": 5
        }
      ]
    },
    {
      "cell_type": "code",
      "source": [
        "a = [[11,12,13],[14,15,16],[17,18,19]]\n",
        "A = np.array(a)\n",
        "A"
      ],
      "metadata": {
        "id": "1bKVTP8cb9DR",
        "colab": {
          "base_uri": "https://localhost:8080/"
        },
        "outputId": "41972500-2aee-47c0-c87a-4b0e447498c6"
      },
      "execution_count": null,
      "outputs": [
        {
          "output_type": "execute_result",
          "data": {
            "text/plain": [
              "array([[11, 12, 13],\n",
              "       [14, 15, 16],\n",
              "       [17, 18, 19]])"
            ]
          },
          "metadata": {},
          "execution_count": 3
        }
      ]
    },
    {
      "cell_type": "code",
      "source": [
        "A[2, 0:3]"
      ],
      "metadata": {
        "colab": {
          "base_uri": "https://localhost:8080/"
        },
        "id": "2Ifuo4zD-IUI",
        "outputId": "f9b37fcd-d509-4b9c-95d2-1d7236de678e"
      },
      "execution_count": null,
      "outputs": [
        {
          "output_type": "execute_result",
          "data": {
            "text/plain": [
              "array([17, 18, 19])"
            ]
          },
          "metadata": {},
          "execution_count": 6
        }
      ]
    },
    {
      "cell_type": "code",
      "source": [
        "A[0:3, 2]"
      ],
      "metadata": {
        "colab": {
          "base_uri": "https://localhost:8080/"
        },
        "id": "Bmw0L2m0-SGt",
        "outputId": "5a0ecaec-c2d3-42cd-b258-d41656ffae69"
      },
      "execution_count": null,
      "outputs": [
        {
          "output_type": "execute_result",
          "data": {
            "text/plain": [
              "array([13, 16, 19])"
            ]
          },
          "metadata": {},
          "execution_count": 7
        }
      ]
    },
    {
      "cell_type": "code",
      "source": [
        "\n",
        "import time\n",
        "import sys\n",
        "import numpy as np\n",
        "\n",
        "import matplotlib.pyplot as plt\n",
        "\n",
        "\n",
        "def Plotvec2(a,b):\n",
        "    ax = plt.axes()# to generate the full window axes\n",
        "    ax.arrow(0, 0, *a, head_width=0.05, color ='r', head_length=0.1)#Add an arrow to the  a Axes with arrow head width 0.05, color red and arrow head length 0.1\n",
        "    plt.text(*(a + 0.1), 'a')\n",
        "    ax.arrow(0, 0, *b, head_width=0.05, color ='b', head_length=0.1)#Add an arrow to the  b Axes with arrow head width 0.05, color blue and arrow head length 0.1\n",
        "    plt.text(*(b + 0.1), 'b')\n",
        "    plt.ylim(-2, 2)#set the ylim to bottom(-2), top(2)\n",
        "    plt.xlim(-2, 2)#set the xlim to left(-2), right(2)"
      ],
      "metadata": {
        "id": "IsgHtnZn-jJI"
      },
      "execution_count": null,
      "outputs": []
    },
    {
      "cell_type": "code",
      "source": [
        "j = 1\n",
        "k = 2\n",
        "l =\"3\"\n",
        "print(j+k+l)"
      ],
      "metadata": {
        "colab": {
          "base_uri": "https://localhost:8080/",
          "height": 176
        },
        "id": "A7qbCbaYLW9f",
        "outputId": "69671c13-0732-4793-a3ea-92cb116a2656"
      },
      "execution_count": null,
      "outputs": [
        {
          "output_type": "error",
          "ename": "TypeError",
          "evalue": "unsupported operand type(s) for +: 'int' and 'str'",
          "traceback": [
            "\u001b[0;31m---------------------------------------------------------------------------\u001b[0m",
            "\u001b[0;31mTypeError\u001b[0m                                 Traceback (most recent call last)",
            "\u001b[0;32m<ipython-input-1-6e384e7a19b7>\u001b[0m in \u001b[0;36m<cell line: 4>\u001b[0;34m()\u001b[0m\n\u001b[1;32m      2\u001b[0m \u001b[0mk\u001b[0m \u001b[0;34m=\u001b[0m \u001b[0;36m2\u001b[0m\u001b[0;34m\u001b[0m\u001b[0;34m\u001b[0m\u001b[0m\n\u001b[1;32m      3\u001b[0m \u001b[0ml\u001b[0m \u001b[0;34m=\u001b[0m\u001b[0;34m\"3\"\u001b[0m\u001b[0;34m\u001b[0m\u001b[0;34m\u001b[0m\u001b[0m\n\u001b[0;32m----> 4\u001b[0;31m \u001b[0mprint\u001b[0m\u001b[0;34m(\u001b[0m\u001b[0mj\u001b[0m\u001b[0;34m+\u001b[0m\u001b[0mk\u001b[0m\u001b[0;34m+\u001b[0m\u001b[0ml\u001b[0m\u001b[0;34m)\u001b[0m\u001b[0;34m\u001b[0m\u001b[0;34m\u001b[0m\u001b[0m\n\u001b[0m",
            "\u001b[0;31mTypeError\u001b[0m: unsupported operand type(s) for +: 'int' and 'str'"
          ]
        }
      ]
    },
    {
      "cell_type": "code",
      "source": [
        "#!pip install pycoingecko\n",
        "#!pip install plotly\n",
        "!pip install mplfinance"
      ],
      "metadata": {
        "colab": {
          "base_uri": "https://localhost:8080/"
        },
        "id": "szc-g9D3cUA-",
        "outputId": "904d4a2e-b3ac-4d62-f4a1-cba71e26a95b"
      },
      "execution_count": null,
      "outputs": [
        {
          "output_type": "stream",
          "name": "stdout",
          "text": [
            "Collecting mplfinance\n",
            "  Downloading mplfinance-0.12.10b0-py3-none-any.whl (75 kB)\n",
            "\u001b[2K     \u001b[90m━━━━━━━━━━━━━━━━━━━━━━━━━━━━━━━━━━━━━━━━\u001b[0m \u001b[32m75.0/75.0 kB\u001b[0m \u001b[31m1.1 MB/s\u001b[0m eta \u001b[36m0:00:00\u001b[0m\n",
            "\u001b[?25hRequirement already satisfied: matplotlib in /usr/local/lib/python3.10/dist-packages (from mplfinance) (3.7.1)\n",
            "Requirement already satisfied: pandas in /usr/local/lib/python3.10/dist-packages (from mplfinance) (2.0.3)\n",
            "Requirement already satisfied: contourpy>=1.0.1 in /usr/local/lib/python3.10/dist-packages (from matplotlib->mplfinance) (1.2.1)\n",
            "Requirement already satisfied: cycler>=0.10 in /usr/local/lib/python3.10/dist-packages (from matplotlib->mplfinance) (0.12.1)\n",
            "Requirement already satisfied: fonttools>=4.22.0 in /usr/local/lib/python3.10/dist-packages (from matplotlib->mplfinance) (4.51.0)\n",
            "Requirement already satisfied: kiwisolver>=1.0.1 in /usr/local/lib/python3.10/dist-packages (from matplotlib->mplfinance) (1.4.5)\n",
            "Requirement already satisfied: numpy>=1.20 in /usr/local/lib/python3.10/dist-packages (from matplotlib->mplfinance) (1.25.2)\n",
            "Requirement already satisfied: packaging>=20.0 in /usr/local/lib/python3.10/dist-packages (from matplotlib->mplfinance) (24.0)\n",
            "Requirement already satisfied: pillow>=6.2.0 in /usr/local/lib/python3.10/dist-packages (from matplotlib->mplfinance) (9.4.0)\n",
            "Requirement already satisfied: pyparsing>=2.3.1 in /usr/local/lib/python3.10/dist-packages (from matplotlib->mplfinance) (3.1.2)\n",
            "Requirement already satisfied: python-dateutil>=2.7 in /usr/local/lib/python3.10/dist-packages (from matplotlib->mplfinance) (2.8.2)\n",
            "Requirement already satisfied: pytz>=2020.1 in /usr/local/lib/python3.10/dist-packages (from pandas->mplfinance) (2023.4)\n",
            "Requirement already satisfied: tzdata>=2022.1 in /usr/local/lib/python3.10/dist-packages (from pandas->mplfinance) (2024.1)\n",
            "Requirement already satisfied: six>=1.5 in /usr/local/lib/python3.10/dist-packages (from python-dateutil>=2.7->matplotlib->mplfinance) (1.16.0)\n",
            "Installing collected packages: mplfinance\n",
            "Successfully installed mplfinance-0.12.10b0\n"
          ]
        }
      ]
    },
    {
      "cell_type": "code",
      "source": [
        "2**3"
      ],
      "metadata": {
        "id": "esgUprNPORh2",
        "colab": {
          "base_uri": "https://localhost:8080/"
        },
        "outputId": "531e8ab5-1c21-4720-b93b-123b253dbc67"
      },
      "execution_count": null,
      "outputs": [
        {
          "output_type": "execute_result",
          "data": {
            "text/plain": [
              "8"
            ]
          },
          "metadata": {},
          "execution_count": 1
        }
      ]
    },
    {
      "cell_type": "code",
      "source": [
        "2+ 10* (10+3)\n"
      ],
      "metadata": {
        "colab": {
          "base_uri": "https://localhost:8080/"
        },
        "id": "ak_skwXk4Ord",
        "outputId": "a1803c94-a42c-4811-c057-bc34d01f4904"
      },
      "execution_count": null,
      "outputs": [
        {
          "output_type": "execute_result",
          "data": {
            "text/plain": [
              "132"
            ]
          },
          "metadata": {},
          "execution_count": 2
        }
      ]
    },
    {
      "cell_type": "code",
      "source": [
        "4E2"
      ],
      "metadata": {
        "colab": {
          "base_uri": "https://localhost:8080/"
        },
        "id": "1p3b_Xa64hPr",
        "outputId": "87a191ba-57c7-433b-9cba-c154167d7d9d"
      },
      "execution_count": null,
      "outputs": [
        {
          "output_type": "execute_result",
          "data": {
            "text/plain": [
              "400.0"
            ]
          },
          "metadata": {},
          "execution_count": 3
        }
      ]
    },
    {
      "cell_type": "code",
      "source": [
        "str1='adtir'\n",
        "str2='ammww'\n",
        "\n",
        "swap1 = str1.replace('ad','am')\n",
        "swap2 = str2[0:2]\n",
        "\n",
        "#print(newstr1, newstr2)\n",
        "print(swap1)"
      ],
      "metadata": {
        "colab": {
          "base_uri": "https://localhost:8080/"
        },
        "id": "M46auTVt5Sxm",
        "outputId": "1a91ecf3-7142-4597-9b6c-335b0f54ce42"
      },
      "execution_count": null,
      "outputs": [
        {
          "output_type": "stream",
          "name": "stdout",
          "text": [
            "amtir\n"
          ]
        }
      ]
    },
    {
      "cell_type": "code",
      "source": [
        "a = input()\n",
        "b = input()\n",
        "new_a = b[:2] + a[2:]\n",
        "new_b = a[:2] + b[2:]\n",
        "print(new_a + ' ' + new_b)"
      ],
      "metadata": {
        "colab": {
          "base_uri": "https://localhost:8080/"
        },
        "id": "-qgHF-96J-Gh",
        "outputId": "544b43a0-d136-4b9d-ab84-3096be2a6b4a"
      },
      "execution_count": null,
      "outputs": [
        {
          "output_type": "stream",
          "name": "stdout",
          "text": [
            "apple\n",
            "pineapple\n",
            "piple apneapple\n"
          ]
        }
      ]
    },
    {
      "cell_type": "code",
      "source": [
        "a='apple'\n",
        "b='pineapple'\n",
        "print(a[:2]+b[2:])"
      ],
      "metadata": {
        "colab": {
          "base_uri": "https://localhost:8080/"
        },
        "id": "uubIJ1V2Mgrx",
        "outputId": "b8db562b-0ec4-4ccb-94ab-063306883c22"
      },
      "execution_count": null,
      "outputs": [
        {
          "output_type": "stream",
          "name": "stdout",
          "text": [
            "apneapple\n"
          ]
        }
      ]
    },
    {
      "cell_type": "code",
      "source": [
        "text1 = \"Ram has two houses, one car and a bike\"\n",
        "len(text1)"
      ],
      "metadata": {
        "colab": {
          "base_uri": "https://localhost:8080/"
        },
        "id": "7g5MFkLaMu0b",
        "outputId": "84a7a160-0b51-456b-9f82-77c11f057ae0"
      },
      "execution_count": null,
      "outputs": [
        {
          "output_type": "execute_result",
          "data": {
            "text/plain": [
              "38"
            ]
          },
          "metadata": {},
          "execution_count": 10
        }
      ]
    },
    {
      "cell_type": "code",
      "source": [
        "print(text1[0::])"
      ],
      "metadata": {
        "colab": {
          "base_uri": "https://localhost:8080/"
        },
        "id": "iBDfx0ubYAdr",
        "outputId": "6b90489a-41d0-476a-9586-9d50babc224e"
      },
      "execution_count": null,
      "outputs": [
        {
          "output_type": "stream",
          "name": "stdout",
          "text": [
            "Ram has two houses, one car and a bike\n"
          ]
        }
      ]
    },
    {
      "cell_type": "code",
      "source": [
        "pop = \"Python rocks\"\n",
        "print(pop[7:11]*3)"
      ],
      "metadata": {
        "colab": {
          "base_uri": "https://localhost:8080/"
        },
        "id": "7n8iwpukYanx",
        "outputId": "a859b9f4-966a-402b-afa3-dcc1d9ab5eea"
      },
      "execution_count": null,
      "outputs": [
        {
          "output_type": "stream",
          "name": "stdout",
          "text": [
            "rockrockrock\n"
          ]
        }
      ]
    },
    {
      "cell_type": "code",
      "source": [
        "print(\"Hello {0} and {1}\".format('foo','bin'))"
      ],
      "metadata": {
        "colab": {
          "base_uri": "https://localhost:8080/"
        },
        "id": "fkiBzVBijmV_",
        "outputId": "c325dc23-4ceb-4217-849b-499851ffa69c"
      },
      "execution_count": null,
      "outputs": [
        {
          "output_type": "stream",
          "name": "stdout",
          "text": [
            "Hello foo and bin\n"
          ]
        }
      ]
    },
    {
      "cell_type": "code",
      "source": [
        "huffle_puff = ['cake','cream','cupcake','pastry','juice','koolaid','octa','omen','bat']\n",
        "#len(huffle_puff *8)\n",
        "huffle_puff[0::-1]"
      ],
      "metadata": {
        "colab": {
          "base_uri": "https://localhost:8080/"
        },
        "id": "r77UoOsYli1d",
        "outputId": "1f7ab387-ecc2-49a6-f7cf-1508dc9001df"
      },
      "execution_count": null,
      "outputs": [
        {
          "output_type": "execute_result",
          "data": {
            "text/plain": [
              "['cake']"
            ]
          },
          "metadata": {},
          "execution_count": 4
        }
      ]
    },
    {
      "cell_type": "code",
      "source": [
        "my_list = (1,90,\"kkl\", True)\n",
        "\n",
        "type(my_list)"
      ],
      "metadata": {
        "colab": {
          "base_uri": "https://localhost:8080/"
        },
        "id": "zWK6XVtS1t4U",
        "outputId": "19ce9d03-f079-4fb0-e2ec-f7ef9c8c1e18"
      },
      "execution_count": null,
      "outputs": [
        {
          "output_type": "execute_result",
          "data": {
            "text/plain": [
              "tuple"
            ]
          },
          "metadata": {},
          "execution_count": 9
        }
      ]
    },
    {
      "cell_type": "code",
      "source": [
        "my_tupp = (56, 67, 89, 'yu', 'op', 'kl')\n",
        "my_tupp[4]\n",
        "my_tupp.index(67)"
      ],
      "metadata": {
        "colab": {
          "base_uri": "https://localhost:8080/"
        },
        "id": "J6z9vJpQNjuT",
        "outputId": "5948d69a-7c57-4e92-b443-35d1194ce07e"
      },
      "execution_count": null,
      "outputs": [
        {
          "output_type": "execute_result",
          "data": {
            "text/plain": [
              "1"
            ]
          },
          "metadata": {},
          "execution_count": 7
        }
      ]
    },
    {
      "cell_type": "code",
      "source": [
        "# Write your code here\n",
        "\n",
        "set_1 = set(input().split(','))\n",
        "set_2 = set(input().split(','))\n",
        "set_1.difference(set_2)\n",
        "\n",
        "#print(sorted(set_1), sorted(set_2))"
      ],
      "metadata": {
        "colab": {
          "base_uri": "https://localhost:8080/"
        },
        "id": "7P4JCkJ4c6pJ",
        "outputId": "d8b8dc58-4b6a-4fb4-fc92-c1c3ceb470c5"
      },
      "execution_count": null,
      "outputs": [
        {
          "name": "stdout",
          "output_type": "stream",
          "text": [
            "24 36 56\n",
            "56 66 name,kj\n"
          ]
        },
        {
          "output_type": "execute_result",
          "data": {
            "text/plain": [
              "{'24 36 56'}"
            ]
          },
          "metadata": {},
          "execution_count": 4
        }
      ]
    },
    {
      "cell_type": "code",
      "source": [
        "set_1 = set(input().split(','))\n",
        "set_2 = set(input().split(','))\n",
        "set_1.difference_update(set_2)\n",
        "print(sorted(set_1), sorted(set_2))"
      ],
      "metadata": {
        "colab": {
          "base_uri": "https://localhost:8080/"
        },
        "id": "aRj4yj7rIlVI",
        "outputId": "43f94e31-d810-44e0-808a-787e5ac314b0"
      },
      "execution_count": null,
      "outputs": [
        {
          "output_type": "stream",
          "name": "stdout",
          "text": [
            "56, name, 85, 19\n",
            "ew, rew, name, pew\n",
            "[' 19', ' 85', '56'] [' name', ' pew', ' rew', 'ew']\n"
          ]
        }
      ]
    },
    {
      "cell_type": "code",
      "source": [
        "st = {21, 34, 56, 'name'}"
      ],
      "metadata": {
        "id": "EhvhqdExNdVP"
      },
      "execution_count": null,
      "outputs": []
    },
    {
      "cell_type": "code",
      "source": [
        "print(sorted(st))"
      ],
      "metadata": {
        "colab": {
          "base_uri": "https://localhost:8080/",
          "height": 141
        },
        "id": "DNOhoHp6ONLi",
        "outputId": "6ad6b841-bccc-4ec5-a962-200e2a147263"
      },
      "execution_count": null,
      "outputs": [
        {
          "output_type": "error",
          "ename": "TypeError",
          "evalue": "'<' not supported between instances of 'str' and 'int'",
          "traceback": [
            "\u001b[0;31m---------------------------------------------------------------------------\u001b[0m",
            "\u001b[0;31mTypeError\u001b[0m                                 Traceback (most recent call last)",
            "\u001b[0;32m<ipython-input-10-8dfb2d29f44d>\u001b[0m in \u001b[0;36m<cell line: 1>\u001b[0;34m()\u001b[0m\n\u001b[0;32m----> 1\u001b[0;31m \u001b[0mprint\u001b[0m\u001b[0;34m(\u001b[0m\u001b[0msorted\u001b[0m\u001b[0;34m(\u001b[0m\u001b[0mst\u001b[0m\u001b[0;34m)\u001b[0m\u001b[0;34m)\u001b[0m\u001b[0;34m\u001b[0m\u001b[0;34m\u001b[0m\u001b[0m\n\u001b[0m",
            "\u001b[0;31mTypeError\u001b[0m: '<' not supported between instances of 'str' and 'int'"
          ]
        }
      ]
    },
    {
      "cell_type": "code",
      "source": [
        "A = set(input().split(','))\n",
        "#B = set(input().split(''))\n",
        "#A.intersection(B)\n",
        "print(A)"
      ],
      "metadata": {
        "colab": {
          "base_uri": "https://localhost:8080/"
        },
        "id": "uX2nBqPAOXso",
        "outputId": "9e411721-c889-42d6-c971-d999ec823556"
      },
      "execution_count": null,
      "outputs": [
        {
          "output_type": "stream",
          "name": "stdout",
          "text": [
            "key, hi, bye, hello\n",
            "{' bye', ' hi', 'key', ' hello'}\n"
          ]
        }
      ]
    },
    {
      "cell_type": "code",
      "source": [
        "alg = 'fool of gold'\n",
        "len(alg)"
      ],
      "metadata": {
        "colab": {
          "base_uri": "https://localhost:8080/"
        },
        "id": "mVB3dHQb1Sve",
        "outputId": "b9ae84ad-9f9a-49ca-dbfb-9a99a2aa3320"
      },
      "execution_count": null,
      "outputs": [
        {
          "output_type": "execute_result",
          "data": {
            "text/plain": [
              "12"
            ]
          },
          "metadata": {},
          "execution_count": 1
        }
      ]
    },
    {
      "cell_type": "code",
      "source": [
        "# Write your code here\n",
        "\n",
        "evendays = ['April', 'June', 'September', 'November']\n",
        "odddays = ['January', 'March', 'May', 'July', 'August', 'October', 'December']\n",
        "#28/29days = ['February']\n",
        "x = input()\n",
        "if x in evendays:\n",
        "  print ('30 days')\n",
        "elif x in odddays:\n",
        "  print('31 days')\n",
        "elif x == 'February':\n",
        "  print('28/29 days')\n",
        "else:\n",
        "  print('Wrong month name')\n"
      ],
      "metadata": {
        "colab": {
          "base_uri": "https://localhost:8080/"
        },
        "id": "6UxPcFclPpui",
        "outputId": "1cf7fde6-46e4-44f9-ae03-72d2b4937725"
      },
      "execution_count": null,
      "outputs": [
        {
          "output_type": "stream",
          "name": "stdout",
          "text": [
            "Februaryy\n",
            "Wrong month name\n"
          ]
        }
      ]
    },
    {
      "cell_type": "code",
      "source": [
        "h_age = int(input())\n",
        "if h_age ==1:\n",
        "  print(\"Dog's age: 10.5\")\n",
        "elif h_age == 2:\n",
        "  print(\"Dog's age:\", 10.5*2)\n",
        "elif h_age >=3:\n",
        "  do_age = (((h_age-2)*4)+21)\n",
        "  print(\"Dog's age:\", do_age)\n",
        "else:\n",
        "  print(\"No\")"
      ],
      "metadata": {
        "colab": {
          "base_uri": "https://localhost:8080/"
        },
        "id": "0CXJjnlsNQqR",
        "outputId": "a6fe0597-6e55-4e55-9a8a-71ff5e98fd52"
      },
      "execution_count": null,
      "outputs": [
        {
          "output_type": "stream",
          "name": "stdout",
          "text": [
            "12\n",
            "Dog's age: 61\n"
          ]
        }
      ]
    },
    {
      "cell_type": "code",
      "source": [
        "got_houses = ['Stark', 'Arryn', 'Baratheon', 'Tully', 'Greyjoy', 'Lannister', 'Tyrell', 'Martell', 'Targaryen']\n"
      ],
      "metadata": {
        "id": "_hS9lppDOrhb"
      },
      "execution_count": null,
      "outputs": []
    },
    {
      "cell_type": "code",
      "source": [
        "for houses in got_houses [::-2]:\n",
        "  print(f'House {houses}')"
      ],
      "metadata": {
        "colab": {
          "base_uri": "https://localhost:8080/"
        },
        "id": "EBGasX7Ts2n_",
        "outputId": "fd1b59a0-303b-4a1f-9260-0a09b946f614"
      },
      "execution_count": null,
      "outputs": [
        {
          "output_type": "stream",
          "name": "stdout",
          "text": [
            "House Targaryen\n",
            "House Tyrell\n",
            "House Greyjoy\n",
            "House Baratheon\n",
            "House Stark\n"
          ]
        }
      ]
    },
    {
      "cell_type": "code",
      "source": [
        "True == False"
      ],
      "metadata": {
        "colab": {
          "base_uri": "https://localhost:8080/"
        },
        "id": "N2IapSPHs2z-",
        "outputId": "27a7a9b4-7af2-4581-a6f3-dd36ad0088c6"
      },
      "execution_count": null,
      "outputs": [
        {
          "output_type": "execute_result",
          "data": {
            "text/plain": [
              "False"
            ]
          },
          "metadata": {},
          "execution_count": 2
        }
      ]
    },
    {
      "cell_type": "code",
      "source": [
        "x = ['ab','cd']\n",
        "\n",
        "for i in x:\n",
        "  i = i.upper()\n",
        "  print(i)\n"
      ],
      "metadata": {
        "colab": {
          "base_uri": "https://localhost:8080/"
        },
        "id": "TywimUKts27q",
        "outputId": "a915b8af-58c8-4bcf-eab6-58b5be42f22b"
      },
      "execution_count": null,
      "outputs": [
        {
          "output_type": "stream",
          "name": "stdout",
          "text": [
            "AB\n",
            "CD\n"
          ]
        }
      ]
    },
    {
      "cell_type": "code",
      "source": [
        "l =[]\n",
        "for i in l:\n",
        "  print(i)"
      ],
      "metadata": {
        "id": "8KuDehX6iT8i"
      },
      "execution_count": null,
      "outputs": []
    },
    {
      "cell_type": "code",
      "source": [
        "for l in 'john':\n",
        "  if l =='o':\n",
        "    pass\n",
        "  print(l, end=\",\")"
      ],
      "metadata": {
        "colab": {
          "base_uri": "https://localhost:8080/"
        },
        "id": "-CgSBbejjN8k",
        "outputId": "05eac899-a148-495d-856c-e4e36445c8f7"
      },
      "execution_count": null,
      "outputs": [
        {
          "output_type": "stream",
          "name": "stdout",
          "text": [
            "j,o,h,n,"
          ]
        }
      ]
    },
    {
      "cell_type": "code",
      "source": [
        "a_year = int(input())\n",
        "a_month = int(input())\n",
        "a_day = int(input())\n",
        "\n",
        "tdate = (a_year a_month  a_day)\n",
        "print(tdate)\n"
      ],
      "metadata": {
        "colab": {
          "base_uri": "https://localhost:8080/",
          "height": 106
        },
        "id": "DjxVxi4tkZbc",
        "outputId": "2cdc3e34-304d-48c3-8d15-8b83e654942e"
      },
      "execution_count": null,
      "outputs": [
        {
          "output_type": "error",
          "ename": "SyntaxError",
          "evalue": "invalid syntax. Perhaps you forgot a comma? (<ipython-input-21-932dfe274cf6>, line 5)",
          "traceback": [
            "\u001b[0;36m  File \u001b[0;32m\"<ipython-input-21-932dfe274cf6>\"\u001b[0;36m, line \u001b[0;32m5\u001b[0m\n\u001b[0;31m    tdate = ( a_year a_month  a_day)\u001b[0m\n\u001b[0m              ^\u001b[0m\n\u001b[0;31mSyntaxError\u001b[0m\u001b[0;31m:\u001b[0m invalid syntax. Perhaps you forgot a comma?\n"
          ]
        }
      ]
    },
    {
      "cell_type": "code",
      "source": [
        "#write a code to get the next date of a given date.\n",
        "\n",
        "year = int(input())\n",
        "month = int(input())\n",
        "day = int(input())\n",
        "\n",
        "\n",
        "if (year% 400 ==0):\n",
        "  leap_year = True\n",
        "elif (year% 100 ==0):\n",
        "  leap_year = False\n",
        "elif (year% 4 == 0):\n",
        "  leap_year = True\n",
        "else:\n",
        "  leap_year = False\n",
        "\n",
        "if month in (1,3,5,7,8,10,12):\n",
        "  month_length = 31\n",
        "elif month == 2:\n",
        "  if month in leap_year:\n",
        "    month_length = 29\n",
        "  else:\n",
        "      month_length = 28\n",
        "else:\n",
        "  month_length = 30\n",
        "\n",
        "if  day < month_length:\n",
        "    day += 1\n",
        "else:\n",
        "  day = 1\n",
        "  if month ==12:\n",
        "        month = 1\n",
        "        year += 1\n",
        "  else:\n",
        "        month += 1\n",
        "print(f\"The next date is [yyyy-mm-dd]  %d-%d-%d.\"  %(year, month, day) )\n",
        "\n",
        "\n",
        "\n"
      ],
      "metadata": {
        "colab": {
          "base_uri": "https://localhost:8080/"
        },
        "id": "TGK75ztzq0wd",
        "outputId": "2a110d81-8c60-4161-ac3c-bfbd74f6f8ab"
      },
      "execution_count": null,
      "outputs": [
        {
          "output_type": "stream",
          "name": "stdout",
          "text": [
            "2014\n",
            "12\n",
            "31\n",
            "The next date is [yyyy-mm-dd]  2015-1-1.\n"
          ]
        }
      ]
    },
    {
      "cell_type": "code",
      "source": [
        "side1 = int(input())\n",
        "side2 = int(input())\n",
        "side3 = int(input())\n",
        "\n",
        "triangle = (side1, side2, side3)\n",
        "#print(triangle)\n",
        "if side1 == side2 ==side3:\n",
        "  print(\"equilateral triangle\")\n",
        "elif side1 == side2 or side2 == side3 or side3 == side1:\n",
        "  print(\"isosceles triangle\")\n",
        "else:\n",
        "  print(\"scalene triangle\")"
      ],
      "metadata": {
        "colab": {
          "base_uri": "https://localhost:8080/"
        },
        "id": "ebC5b4_vydDh",
        "outputId": "2a458a73-0627-4e71-fae6-954e632cf5db"
      },
      "execution_count": null,
      "outputs": [
        {
          "output_type": "stream",
          "name": "stdout",
          "text": [
            "5\n",
            "5\n",
            "7\n",
            "isosceles triangle\n"
          ]
        }
      ]
    },
    {
      "cell_type": "code",
      "source": [
        "7"
      ],
      "metadata": {
        "colab": {
          "base_uri": "https://localhost:8080/"
        },
        "id": "2cxmJGRUXlow",
        "outputId": "348993c6-a50e-4e11-9b4a-a439f3c4edf7"
      },
      "execution_count": null,
      "outputs": [
        {
          "output_type": "execute_result",
          "data": {
            "text/plain": [
              "7"
            ]
          },
          "metadata": {},
          "execution_count": 5
        }
      ]
    },
    {
      "cell_type": "code",
      "source": [
        "x = [int(x) for x in input(\"Enter multiple values: \").split()]\n",
        "print(x)"
      ],
      "metadata": {
        "colab": {
          "base_uri": "https://localhost:8080/"
        },
        "id": "8rc3xbYuaXk5",
        "outputId": "c521f3f7-65f9-40d3-dde5-1ece57b916c0"
      },
      "execution_count": null,
      "outputs": [
        {
          "output_type": "stream",
          "name": "stdout",
          "text": [
            "Enter multiple values: 2 8 9 3 5 6 0\n",
            "[2, 8, 9, 3, 5, 6, 0]\n"
          ]
        }
      ]
    },
    {
      "cell_type": "code",
      "source": [
        "#write your code inside main function\n",
        "x = [int(x) for x in input(\"Enter multiple values: \").split()]\n",
        "#print( x)\n",
        "sum1 = sum(x)\n",
        "avg = sum1 /len(x)\n",
        "\n",
        "print(f\"Average and sum are: {avg}, {sum1}\")\n",
        "\n",
        "\n"
      ],
      "metadata": {
        "colab": {
          "base_uri": "https://localhost:8080/"
        },
        "id": "ZEV7LB_Krjka",
        "outputId": "66a98423-c6db-4f0e-f92e-fc6f25289acf"
      },
      "execution_count": null,
      "outputs": [
        {
          "output_type": "stream",
          "name": "stdout",
          "text": [
            "Enter multiple values: 34 2 4 5 7\n",
            "Average and sum are: 10.4, 52\n"
          ]
        }
      ]
    },
    {
      "cell_type": "code",
      "source": [
        "count = 0\n",
        "sum = 0.0\n",
        "number = 0\n",
        "\n",
        "while number != 0:\n",
        "        number = int(input(\"\"))\n",
        "        sum = sum + number\n",
        "        count += 1\n",
        "\n",
        "if count == 0:\n",
        "        print(\"Input some numbers\")\n",
        "else:\n",
        "        print(\"Average and Sum of the above numbers are:\", sum / (count-1), sum)"
      ],
      "metadata": {
        "colab": {
          "base_uri": "https://localhost:8080/"
        },
        "id": "QQHOkQUhtcoy",
        "outputId": "30f9c450-32dd-4662-ced1-1635a98a39c5"
      },
      "execution_count": null,
      "outputs": [
        {
          "output_type": "stream",
          "name": "stdout",
          "text": [
            "Input some numbers\n"
          ]
        }
      ]
    },
    {
      "cell_type": "code",
      "source": [
        "\n",
        "#Print each adjective for every vegetable:\n",
        "\n",
        "adj = [\"green\", \"leafy\", \"juicy\"]\n",
        "\n",
        "vegetables = [\"spinach\", \"kale\", \"pumpkin\"]\n",
        "\n",
        "for x in adj:\n",
        "  for y in vegetables:\n",
        "    print(x, y)"
      ],
      "metadata": {
        "colab": {
          "base_uri": "https://localhost:8080/"
        },
        "id": "Nd6HW9b5zYsA",
        "outputId": "35a0c735-b3b5-452f-87e7-91c31f42d94c"
      },
      "execution_count": null,
      "outputs": [
        {
          "output_type": "stream",
          "name": "stdout",
          "text": [
            "green spinach\n",
            "green kale\n",
            "green pumpkin\n",
            "leafy spinach\n",
            "leafy kale\n",
            "leafy pumpkin\n",
            "juicy spinach\n",
            "juicy kale\n",
            "juicy pumpkin\n"
          ]
        }
      ]
    },
    {
      "cell_type": "code",
      "source": [
        "list_of_numbers = []\n",
        "\n",
        "for num1 in range(4):\n",
        "  for num2 in range(3):\n",
        "    # print(num1,num2)\n",
        "    list_of_numbers.append(num1)\n",
        "print(list_of_numbers)"
      ],
      "metadata": {
        "id": "efHhfeBG3SPr"
      },
      "execution_count": null,
      "outputs": []
    },
    {
      "cell_type": "code",
      "source": [
        "list1 = []\n",
        "\n",
        "for num in range(3):\n",
        "  for num1 in range(4):\n",
        "    #list1.append(num)\n",
        "    print(num1, num)\n",
        "#list1"
      ],
      "metadata": {
        "colab": {
          "base_uri": "https://localhost:8080/"
        },
        "id": "jEWnInuEI7wM",
        "outputId": "60bd4c1c-a59e-4ee7-8731-71980129907a"
      },
      "execution_count": null,
      "outputs": [
        {
          "output_type": "stream",
          "name": "stdout",
          "text": [
            "0 0\n",
            "1 0\n",
            "2 0\n",
            "3 0\n",
            "0 1\n",
            "1 1\n",
            "2 1\n",
            "3 1\n",
            "0 2\n",
            "1 2\n",
            "2 2\n",
            "3 2\n"
          ]
        }
      ]
    },
    {
      "cell_type": "code",
      "source": [
        "name = ['Adi','Abhi','sam']\n",
        "name2 = ['ram','shyam','govind','nom']\n",
        "name3 = []\n",
        "\n",
        "for na in name:\n",
        "  for nam in name2:\n",
        "    name3.append(na)\n",
        "    print (nam,na)\n",
        "\n",
        "name3\n",
        "\n",
        "\n",
        "# In a nested loop, when the inner loop is called the elements of the inner loop list is repeated by the no. of elements\n",
        "# in the outer loop list."
      ],
      "metadata": {
        "colab": {
          "base_uri": "https://localhost:8080/"
        },
        "id": "y3BsYqXhI7y0",
        "outputId": "fc382c4e-8633-497c-d7e4-e8c8e9d016e6"
      },
      "execution_count": null,
      "outputs": [
        {
          "output_type": "stream",
          "name": "stdout",
          "text": [
            "ram Adi\n",
            "shyam Adi\n",
            "govind Adi\n",
            "nom Adi\n",
            "ram Abhi\n",
            "shyam Abhi\n",
            "govind Abhi\n",
            "nom Abhi\n",
            "ram sam\n",
            "shyam sam\n",
            "govind sam\n",
            "nom sam\n"
          ]
        },
        {
          "output_type": "execute_result",
          "data": {
            "text/plain": [
              "['ram',\n",
              " 'shyam',\n",
              " 'govind',\n",
              " 'nom',\n",
              " 'ram',\n",
              " 'shyam',\n",
              " 'govind',\n",
              " 'nom',\n",
              " 'ram',\n",
              " 'shyam',\n",
              " 'govind',\n",
              " 'nom']"
            ]
          },
          "metadata": {},
          "execution_count": 1
        }
      ]
    },
    {
      "cell_type": "code",
      "source": [
        "name = ['Adi','Abhi','sam']\n",
        "name2 = ['ram','shyam','govind','nom']\n",
        "name3 = []\n",
        "\n",
        "for na in name:\n",
        "  for nam in name2:\n",
        "    #name3.append(nam)\n",
        "    print (na)\n",
        "\n",
        "#name3"
      ],
      "metadata": {
        "colab": {
          "base_uri": "https://localhost:8080/"
        },
        "id": "MLoI-DASI71x",
        "outputId": "e0933e01-403c-4e2e-d9d5-79e92c8faac9"
      },
      "execution_count": null,
      "outputs": [
        {
          "output_type": "stream",
          "name": "stdout",
          "text": [
            "Adi\n",
            "Adi\n",
            "Adi\n",
            "Adi\n",
            "Abhi\n",
            "Abhi\n",
            "Abhi\n",
            "Abhi\n",
            "sam\n",
            "sam\n",
            "sam\n",
            "sam\n"
          ]
        }
      ]
    },
    {
      "cell_type": "code",
      "source": [
        "t= 32.00\n",
        "t_ans = [round((x-32)*5/9)for x in t]\n",
        "t_ans"
      ],
      "metadata": {
        "id": "XUVQrKEKI73_",
        "colab": {
          "base_uri": "https://localhost:8080/",
          "height": 176
        },
        "outputId": "c0d54a53-4dae-4050-fde0-a31c1562aebc"
      },
      "execution_count": null,
      "outputs": [
        {
          "output_type": "error",
          "ename": "TypeError",
          "evalue": "'float' object is not iterable",
          "traceback": [
            "\u001b[0;31m---------------------------------------------------------------------------\u001b[0m",
            "\u001b[0;31mTypeError\u001b[0m                                 Traceback (most recent call last)",
            "\u001b[0;32m<ipython-input-1-9cc78b78757e>\u001b[0m in \u001b[0;36m<cell line: 2>\u001b[0;34m()\u001b[0m\n\u001b[1;32m      1\u001b[0m \u001b[0mt\u001b[0m\u001b[0;34m=\u001b[0m \u001b[0;36m32.00\u001b[0m\u001b[0;34m\u001b[0m\u001b[0;34m\u001b[0m\u001b[0m\n\u001b[0;32m----> 2\u001b[0;31m \u001b[0mt_ans\u001b[0m \u001b[0;34m=\u001b[0m \u001b[0;34m[\u001b[0m\u001b[0mround\u001b[0m\u001b[0;34m(\u001b[0m\u001b[0;34m(\u001b[0m\u001b[0mx\u001b[0m\u001b[0;34m-\u001b[0m\u001b[0;36m32\u001b[0m\u001b[0;34m)\u001b[0m\u001b[0;34m*\u001b[0m\u001b[0;36m5\u001b[0m\u001b[0;34m/\u001b[0m\u001b[0;36m9\u001b[0m\u001b[0;34m)\u001b[0m\u001b[0;32mfor\u001b[0m \u001b[0mx\u001b[0m \u001b[0;32min\u001b[0m \u001b[0mt\u001b[0m\u001b[0;34m]\u001b[0m\u001b[0;34m\u001b[0m\u001b[0;34m\u001b[0m\u001b[0m\n\u001b[0m\u001b[1;32m      3\u001b[0m \u001b[0mt_ans\u001b[0m\u001b[0;34m\u001b[0m\u001b[0;34m\u001b[0m\u001b[0m\n",
            "\u001b[0;31mTypeError\u001b[0m: 'float' object is not iterable"
          ]
        }
      ]
    },
    {
      "cell_type": "code",
      "source": [
        "print([i.lower() for i in \"HELLO\"])"
      ],
      "metadata": {
        "id": "pnnC-P9MI76W",
        "colab": {
          "base_uri": "https://localhost:8080/"
        },
        "outputId": "fc4a6b12-da41-4dcd-d655-912dd54ce0a2"
      },
      "execution_count": null,
      "outputs": [
        {
          "output_type": "stream",
          "name": "stdout",
          "text": [
            "['h', 'e', 'l', 'l', 'o']\n"
          ]
        }
      ]
    },
    {
      "cell_type": "code",
      "source": [
        "#list_1 = eval(input())\n",
        "#print(list_1)\n",
        "# Write your code here\n",
        "\n",
        "list_1 = eval(input())\n",
        "list_fil =[i for i in range(len(list_1)) if list_1[i] == None]\n",
        "print(list_fil)\n",
        "\n",
        "\n"
      ],
      "metadata": {
        "id": "EdehFxMfI785",
        "colab": {
          "base_uri": "https://localhost:8080/"
        },
        "outputId": "2eee09ab-4cf6-4655-f748-0b6d280ff220"
      },
      "execution_count": null,
      "outputs": [
        {
          "output_type": "stream",
          "name": "stdout",
          "text": [
            "[1, None, 5, 4,None, 0, None, None]\n",
            "[1, 4, 6, 7]\n"
          ]
        }
      ]
    },
    {
      "cell_type": "code",
      "source": [
        "# Write your code here\n",
        "\n",
        "lst = eval(input())\n",
        "elem = eval(input())\n",
        "lst = [val for val in lst if val not in elem]\n",
        "print(lst)"
      ],
      "metadata": {
        "colab": {
          "base_uri": "https://localhost:8080/"
        },
        "id": "zVCG0NexsPVB",
        "outputId": "f47e33b5-5fba-45ae-cdda-3efdb8e58b8b"
      },
      "execution_count": null,
      "outputs": [
        {
          "output_type": "stream",
          "name": "stdout",
          "text": [
            "['red', 'green', 'blue', 'white', 'black', 'orange']\n",
            "['white', 'orange']\n",
            "['red', 'green', 'blue', 'black']\n"
          ]
        }
      ]
    },
    {
      "cell_type": "code",
      "source": [
        "['red', 'green', 'blue', 'white', 'black', 'orange']\n",
        "['white', 'orange']"
      ],
      "metadata": {
        "colab": {
          "base_uri": "https://localhost:8080/"
        },
        "id": "mRQocThq4Qil",
        "outputId": "638259f8-8351-45f8-95a4-15f0ed868ab9"
      },
      "execution_count": null,
      "outputs": [
        {
          "output_type": "execute_result",
          "data": {
            "text/plain": [
              "['white', 'orange']"
            ]
          },
          "metadata": {},
          "execution_count": 43
        }
      ]
    },
    {
      "cell_type": "code",
      "source": [
        "lst = eval(input())\n",
        "elem = eval(input())"
      ],
      "metadata": {
        "colab": {
          "base_uri": "https://localhost:8080/"
        },
        "id": "CZkvoTAU6Y9R",
        "outputId": "b40f34ca-898c-4827-ed14-d01496451186"
      },
      "execution_count": null,
      "outputs": [
        {
          "name": "stdout",
          "output_type": "stream",
          "text": [
            "['red', 'green', 'blue', 'white', 'black', 'orange']\n",
            "['white', 'orange']\n"
          ]
        }
      ]
    },
    {
      "cell_type": "code",
      "source": [
        "lst = lst.remove('white')\n",
        "print(lst)"
      ],
      "metadata": {
        "colab": {
          "base_uri": "https://localhost:8080/"
        },
        "id": "ANQFnrxh7bnk",
        "outputId": "7375d680-9ded-4183-e305-b667ff655d77"
      },
      "execution_count": null,
      "outputs": [
        {
          "output_type": "stream",
          "name": "stdout",
          "text": [
            "None\n"
          ]
        }
      ]
    },
    {
      "cell_type": "code",
      "source": [
        "word = eval(input())\n",
        "remove_word = eval(input())\n",
        "lst = [word for word in word if word not in remove_word]\n",
        "print(lst)"
      ],
      "metadata": {
        "colab": {
          "base_uri": "https://localhost:8080/"
        },
        "id": "WKn1mHVL7bqT",
        "outputId": "492b6293-fa1b-4d0c-e97f-441aeef5d86c"
      },
      "execution_count": null,
      "outputs": [
        {
          "output_type": "stream",
          "name": "stdout",
          "text": [
            "['red', 'green', 'blue', 'white', 'black', 'orange']\n",
            "['white', 'orange']\n",
            "['red', 'green', 'blue', 'black']\n"
          ]
        }
      ]
    },
    {
      "cell_type": "code",
      "source": [
        "actual_house_prices = [39, 120, 95, 50, 200, 40]\n",
        "predicted_house_prices = [60.25, 57.5, 160.0, 235.0, 85.0]\n",
        "squared_difference_in_prices = []\n",
        "\n",
        "lst = [set(actual_house_prices) - set(predicted_house_prices)]\n",
        "lst\n",
        "#for x in actual_house_prices:\n",
        "#  for y in predicted_house_prices:\n",
        "#    solved=(x-y)**2\n",
        "#    squared_difference_in_prices.append(solved)\n",
        "\n",
        "#print(len(squared_difference_in_prices))\n"
      ],
      "metadata": {
        "colab": {
          "base_uri": "https://localhost:8080/"
        },
        "id": "fDEzMLQw7bsw",
        "outputId": "fd8a2482-42c8-4837-f44c-5b0d24a081d6"
      },
      "execution_count": null,
      "outputs": [
        {
          "output_type": "execute_result",
          "data": {
            "text/plain": [
              "[{39, 40, 50, 95, 120, 200}]"
            ]
          },
          "metadata": {},
          "execution_count": 4
        }
      ]
    },
    {
      "cell_type": "code",
      "source": [
        "sigmoid_of_x =[0.95256, 0.99988, 0.99995, 0.01799, 0.11922, 0.73104, 0.5, 0.98201, 0.9933, 0.99909]\n"
      ],
      "metadata": {
        "id": "Un9Tj7Jtl0uU"
      },
      "execution_count": null,
      "outputs": []
    },
    {
      "cell_type": "code",
      "source": [
        "\n",
        "bool_values = []\n",
        "\n",
        "for function in sigmoid_of_x:\n",
        "  if function ==0:\n",
        "    print(False)\n",
        "  if function > 0:\n",
        "    print(True)\n",
        "    bool_values.append(function)\n",
        "\n",
        "print(bool_values)\n",
        "\n"
      ],
      "metadata": {
        "colab": {
          "base_uri": "https://localhost:8080/"
        },
        "id": "Efs17MiR7bww",
        "outputId": "bd908e94-44fa-46d2-a220-fd2c0b9ede0a"
      },
      "execution_count": null,
      "outputs": [
        {
          "output_type": "stream",
          "name": "stdout",
          "text": [
            "True\n",
            "True\n",
            "True\n",
            "True\n",
            "True\n",
            "True\n",
            "True\n",
            "True\n",
            "True\n",
            "True\n",
            "[0.95256, 0.99988, 0.99995, 0.01799, 0.11922, 0.73104, 0.5, 0.98201, 0.9933, 0.99909]\n"
          ]
        }
      ]
    },
    {
      "cell_type": "code",
      "source": [
        "trial_set = {\"him\", \"jen\",\"moss\",\"kriss\",\"apple\"}\n",
        "trial_update = (\"hello\", \"world\", \"kevin\",\"sharon\")\n",
        "\n",
        "\n",
        "trial_update_set = set(trial_update)\n",
        "\n",
        "updated_set = trial_set.union(trial_update_set)\n",
        "\n",
        "print(updated_set)\n"
      ],
      "metadata": {
        "colab": {
          "base_uri": "https://localhost:8080/"
        },
        "id": "9WiTZtvi7arS",
        "outputId": "19e156fe-538d-4cb9-f564-390b217e77ec"
      },
      "execution_count": null,
      "outputs": [
        {
          "output_type": "stream",
          "name": "stdout",
          "text": [
            "{'kevin', 'jen', 'apple', 'sharon', 'hello', 'world', 'kriss', 'moss', 'him'}\n"
          ]
        }
      ]
    },
    {
      "cell_type": "code",
      "source": [
        "date_quarts = \"2019-06-15\"\n",
        "print(date_quarts[:4])\n",
        "print(date_quarts[5:7])"
      ],
      "metadata": {
        "id": "iOf6O3jJCQ3v",
        "colab": {
          "base_uri": "https://localhost:8080/"
        },
        "outputId": "c4acb266-73cd-4aad-9bfa-4a721cfff6a8"
      },
      "execution_count": null,
      "outputs": [
        {
          "output_type": "stream",
          "name": "stdout",
          "text": [
            "2019\n",
            "06\n"
          ]
        }
      ]
    },
    {
      "cell_type": "code",
      "source": [
        "x = \"jk rowling\"\n",
        "print(type(x))"
      ],
      "metadata": {
        "colab": {
          "base_uri": "https://localhost:8080/"
        },
        "id": "sICvVepyF7ma",
        "outputId": "a939d8a8-76ad-47cd-ddc7-ac68fc6d0bb7"
      },
      "execution_count": null,
      "outputs": [
        {
          "output_type": "stream",
          "name": "stdout",
          "text": [
            "<class 'str'>\n"
          ]
        }
      ]
    },
    {
      "cell_type": "code",
      "source": [
        "class Human:\n",
        "  pass"
      ],
      "metadata": {
        "id": "_n_P4tDdZHNo"
      },
      "execution_count": 2,
      "outputs": []
    },
    {
      "cell_type": "code",
      "source": [],
      "metadata": {
        "id": "NiyP-L2OkhlZ"
      },
      "execution_count": null,
      "outputs": []
    }
  ],
  "metadata": {
    "colab": {
      "provenance": [],
      "gpuType": "T4",
      "include_colab_link": true
    },
    "kernelspec": {
      "display_name": "Python 3",
      "name": "python3"
    }
  },
  "nbformat": 4,
  "nbformat_minor": 0
}